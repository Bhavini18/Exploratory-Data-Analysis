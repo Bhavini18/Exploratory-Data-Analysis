{
  "nbformat": 4,
  "nbformat_minor": 0,
  "metadata": {
    "colab": {
      "name": "EDA - Take Home (Day 4) - Questions [v2.0 - 270320].ipynb",
      "provenance": [],
      "collapsed_sections": []
    },
    "kernelspec": {
      "display_name": "Python 3",
      "language": "python",
      "name": "python3"
    },
    "language_info": {
      "codemirror_mode": {
        "name": "ipython",
        "version": 3
      },
      "file_extension": ".py",
      "mimetype": "text/x-python",
      "name": "python",
      "nbconvert_exporter": "python",
      "pygments_lexer": "ipython3",
      "version": "3.6.4"
    }
  },
  "cells": [
    {
      "cell_type": "markdown",
      "metadata": {
        "id": "_XI2ZnKYxhy1"
      },
      "source": [
        "<table align=\"center\" width=100%>\n",
        "    <tr>\n",
        "        <td width=\"15%\">\n",
        "            <img src=\"homework.png\">\n",
        "        </td>\n",
        "        <td>\n",
        "            <div align=\"center\">\n",
        "                <font color=\"#21618C\" size=8px>\n",
        "                    <b> Take-Home <br>(Day 4)\n",
        "                    </b>\n",
        "                </font>\n",
        "            </div>\n",
        "        </td>\n",
        "    </tr>\n",
        "</table>"
      ]
    },
    {
      "cell_type": "markdown",
      "metadata": {
        "id": "-mS8xNrvxhy3"
      },
      "source": [
        "### About the dataset (Life Expectancy Data)\n",
        "\n",
        "The dataset contains the health data of 2938 individuals useful for predicting the life expentency of the individuals. The features are related to economical factors, immunity realted factors, social factors and so on.\n",
        "\n",
        "Attribute Information:\n",
        "\n",
        "**Country:** Country of the recorded data\n",
        "\n",
        "**Year:** Year of the recorded data\n",
        "\n",
        "**Status:** Status of the country\n",
        "\n",
        "**Life expectancy:** Life expectancy in age (target/dependent variable)\n",
        "\n",
        "**Adult mortality:** Rate of adult mortality\n",
        "\n",
        "**Infant deaths:** Number of Infant Deaths per 1000 population\n",
        "\n",
        "**Alcohol:** Alcohol consumption (in litres of pure alcohol)\n",
        "\n",
        "**Percentage expenditure:** Expenditure on health as a percentage of GDP\n",
        "\n",
        "**Hepatitis B:** Hepatitis B immunization coverage among 1-year-olds (%)\n",
        "\n",
        "**Measles:** Number of reported cases per 1000 population\n",
        "\n",
        "**BMI:** Average BMI of entire population\n",
        "\n",
        "**Under-five deaths:** Number of under-five deaths per 1000 population\n",
        "\n",
        "**Polio:** Polio immunization coverage among 1-year-olds (%)\n",
        "\n",
        "**Total expenditure:** Government expenditure on health as a percentage of total government expenditure (%)\n",
        "\n",
        "**Diphtheria:** DTP3 immunization coverage among 1-year-olds (%)\n",
        "\n",
        "**HIV/AIDS:** Deaths per 1000 live births HIV/AIDS (0-4 years)\n",
        "\n",
        "**GDP:** Gross Domestic Product per capita (in USD)\n",
        "\n",
        "**Population:** Population of the country\n",
        "\n",
        "**Thinness 1-19 years:** Prevalence of thinness for age 1 to 19 (%)\n",
        "\n",
        "**Thinness 5-9 years:** Prevalence of thinness for age 5 to 9 (%)\n",
        "\n",
        "**Income composition of resources:** Human Development Index in terms of income composition of resources\n",
        "\n",
        "**Schooling:** Number of years of Schooling"
      ]
    },
    {
      "cell_type": "markdown",
      "metadata": {
        "id": "eZpFU2baxhy4"
      },
      "source": [
        "**Import the required libraries**"
      ]
    },
    {
      "cell_type": "code",
      "metadata": {
        "id": "e8M8Pp_nxhy4"
      },
      "source": [
        "# type your code here\r\n",
        "\r\n",
        "import pandas as pd\r\n",
        "import numpy as np\r\n",
        "import matplotlib.pyplot as plt\r\n",
        "import seaborn as sns\r\n",
        "sns.set_style('whitegrid')"
      ],
      "execution_count": 1,
      "outputs": []
    },
    {
      "cell_type": "markdown",
      "metadata": {
        "id": "Eq59es0Wxhy5"
      },
      "source": [
        "#### Load the life expectancy dataset and print the first five observations"
      ]
    },
    {
      "cell_type": "code",
      "metadata": {
        "colab": {
          "resources": {
            "http://localhost:8080/nbextensions/google.colab/files.js": {
              "data": "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",
              "ok": true,
              "headers": [
                [
                  "content-type",
                  "application/javascript"
                ]
              ],
              "status": 200,
              "status_text": ""
            }
          },
          "base_uri": "https://localhost:8080/",
          "height": 72
        },
        "id": "xMrdLl4fxhy5",
        "outputId": "31650e60-90ee-4cdd-b003-a1e43ff5d9c6"
      },
      "source": [
        "# type your code here\r\n",
        "\r\n",
        "\r\n",
        "from google.colab import files \r\n",
        "  \r\n",
        "  \r\n",
        "uploaded = files.upload()"
      ],
      "execution_count": 2,
      "outputs": [
        {
          "output_type": "display_data",
          "data": {
            "text/html": [
              "\n",
              "     <input type=\"file\" id=\"files-859a9120-68fe-4865-808b-919495d5ec5f\" name=\"files[]\" multiple disabled\n",
              "        style=\"border:none\" />\n",
              "     <output id=\"result-859a9120-68fe-4865-808b-919495d5ec5f\">\n",
              "      Upload widget is only available when the cell has been executed in the\n",
              "      current browser session. Please rerun this cell to enable.\n",
              "      </output>\n",
              "      <script src=\"/nbextensions/google.colab/files.js\"></script> "
            ],
            "text/plain": [
              "<IPython.core.display.HTML object>"
            ]
          },
          "metadata": {
            "tags": []
          }
        },
        {
          "output_type": "stream",
          "text": [
            "Saving Life Expectancy Data.csv to Life Expectancy Data.csv\n"
          ],
          "name": "stdout"
        }
      ]
    },
    {
      "cell_type": "code",
      "metadata": {
        "colab": {
          "base_uri": "https://localhost:8080/",
          "height": 275
        },
        "id": "0oXL45GWx3GV",
        "outputId": "151311b8-c5d3-475d-e05e-657820d4f814"
      },
      "source": [
        "df = pd.read_csv('Life Expectancy Data.csv') \r\n",
        "df.head()"
      ],
      "execution_count": 3,
      "outputs": [
        {
          "output_type": "execute_result",
          "data": {
            "text/html": [
              "<div>\n",
              "<style scoped>\n",
              "    .dataframe tbody tr th:only-of-type {\n",
              "        vertical-align: middle;\n",
              "    }\n",
              "\n",
              "    .dataframe tbody tr th {\n",
              "        vertical-align: top;\n",
              "    }\n",
              "\n",
              "    .dataframe thead th {\n",
              "        text-align: right;\n",
              "    }\n",
              "</style>\n",
              "<table border=\"1\" class=\"dataframe\">\n",
              "  <thead>\n",
              "    <tr style=\"text-align: right;\">\n",
              "      <th></th>\n",
              "      <th>Country</th>\n",
              "      <th>Year</th>\n",
              "      <th>Status</th>\n",
              "      <th>Life expectancy</th>\n",
              "      <th>Adult mortality</th>\n",
              "      <th>Infant deaths</th>\n",
              "      <th>Alcohol</th>\n",
              "      <th>Percentage expenditure</th>\n",
              "      <th>Hepatitis B</th>\n",
              "      <th>Measles</th>\n",
              "      <th>BMI</th>\n",
              "      <th>Under-five deaths</th>\n",
              "      <th>Polio</th>\n",
              "      <th>Total expenditure</th>\n",
              "      <th>Diphtheria</th>\n",
              "      <th>HIV/AIDS</th>\n",
              "      <th>GDP</th>\n",
              "      <th>Population</th>\n",
              "      <th>Thinness  1-19 years</th>\n",
              "      <th>Thinness 5-9 years</th>\n",
              "      <th>Income composition of resources</th>\n",
              "      <th>Schooling</th>\n",
              "    </tr>\n",
              "  </thead>\n",
              "  <tbody>\n",
              "    <tr>\n",
              "      <th>0</th>\n",
              "      <td>Afghanistan</td>\n",
              "      <td>2015</td>\n",
              "      <td>Developing</td>\n",
              "      <td>65.0</td>\n",
              "      <td>263.0</td>\n",
              "      <td>62</td>\n",
              "      <td>0.01</td>\n",
              "      <td>71.279624</td>\n",
              "      <td>65.0</td>\n",
              "      <td>1154</td>\n",
              "      <td>19.1</td>\n",
              "      <td>83</td>\n",
              "      <td>6.0</td>\n",
              "      <td>8.16</td>\n",
              "      <td>65.0</td>\n",
              "      <td>0.1</td>\n",
              "      <td>584.259210</td>\n",
              "      <td>33736494</td>\n",
              "      <td>17.2</td>\n",
              "      <td>17.3</td>\n",
              "      <td>0.479</td>\n",
              "      <td>10.1</td>\n",
              "    </tr>\n",
              "    <tr>\n",
              "      <th>1</th>\n",
              "      <td>Afghanistan</td>\n",
              "      <td>2014</td>\n",
              "      <td>Developing</td>\n",
              "      <td>59.9</td>\n",
              "      <td>271.0</td>\n",
              "      <td>64</td>\n",
              "      <td>0.01</td>\n",
              "      <td>73.523582</td>\n",
              "      <td>62.0</td>\n",
              "      <td>492</td>\n",
              "      <td>18.6</td>\n",
              "      <td>86</td>\n",
              "      <td>58.0</td>\n",
              "      <td>8.18</td>\n",
              "      <td>62.0</td>\n",
              "      <td>0.1</td>\n",
              "      <td>612.696514</td>\n",
              "      <td>327582</td>\n",
              "      <td>17.5</td>\n",
              "      <td>17.5</td>\n",
              "      <td>0.476</td>\n",
              "      <td>10.0</td>\n",
              "    </tr>\n",
              "    <tr>\n",
              "      <th>2</th>\n",
              "      <td>Afghanistan</td>\n",
              "      <td>2013</td>\n",
              "      <td>Developing</td>\n",
              "      <td>59.9</td>\n",
              "      <td>268.0</td>\n",
              "      <td>66</td>\n",
              "      <td>0.01</td>\n",
              "      <td>73.219243</td>\n",
              "      <td>64.0</td>\n",
              "      <td>430</td>\n",
              "      <td>18.1</td>\n",
              "      <td>89</td>\n",
              "      <td>62.0</td>\n",
              "      <td>8.13</td>\n",
              "      <td>64.0</td>\n",
              "      <td>0.1</td>\n",
              "      <td>631.744976</td>\n",
              "      <td>31731688</td>\n",
              "      <td>17.7</td>\n",
              "      <td>17.7</td>\n",
              "      <td>0.470</td>\n",
              "      <td>9.9</td>\n",
              "    </tr>\n",
              "    <tr>\n",
              "      <th>3</th>\n",
              "      <td>Afghanistan</td>\n",
              "      <td>2012</td>\n",
              "      <td>Developing</td>\n",
              "      <td>59.5</td>\n",
              "      <td>272.0</td>\n",
              "      <td>69</td>\n",
              "      <td>0.01</td>\n",
              "      <td>78.184215</td>\n",
              "      <td>67.0</td>\n",
              "      <td>2787</td>\n",
              "      <td>17.6</td>\n",
              "      <td>93</td>\n",
              "      <td>67.0</td>\n",
              "      <td>8.52</td>\n",
              "      <td>67.0</td>\n",
              "      <td>0.1</td>\n",
              "      <td>669.959000</td>\n",
              "      <td>3696958</td>\n",
              "      <td>17.9</td>\n",
              "      <td>18.0</td>\n",
              "      <td>0.463</td>\n",
              "      <td>9.8</td>\n",
              "    </tr>\n",
              "    <tr>\n",
              "      <th>4</th>\n",
              "      <td>Afghanistan</td>\n",
              "      <td>2011</td>\n",
              "      <td>Developing</td>\n",
              "      <td>59.2</td>\n",
              "      <td>275.0</td>\n",
              "      <td>71</td>\n",
              "      <td>0.01</td>\n",
              "      <td>7.097109</td>\n",
              "      <td>68.0</td>\n",
              "      <td>3013</td>\n",
              "      <td>17.2</td>\n",
              "      <td>97</td>\n",
              "      <td>68.0</td>\n",
              "      <td>7.87</td>\n",
              "      <td>68.0</td>\n",
              "      <td>0.1</td>\n",
              "      <td>63.537231</td>\n",
              "      <td>2978599</td>\n",
              "      <td>18.2</td>\n",
              "      <td>18.2</td>\n",
              "      <td>0.454</td>\n",
              "      <td>9.5</td>\n",
              "    </tr>\n",
              "  </tbody>\n",
              "</table>\n",
              "</div>"
            ],
            "text/plain": [
              "       Country  Year  ... Income composition of resources  Schooling\n",
              "0  Afghanistan  2015  ...                           0.479       10.1\n",
              "1  Afghanistan  2014  ...                           0.476       10.0\n",
              "2  Afghanistan  2013  ...                           0.470        9.9\n",
              "3  Afghanistan  2012  ...                           0.463        9.8\n",
              "4  Afghanistan  2011  ...                           0.454        9.5\n",
              "\n",
              "[5 rows x 22 columns]"
            ]
          },
          "metadata": {
            "tags": []
          },
          "execution_count": 3
        }
      ]
    },
    {
      "cell_type": "markdown",
      "metadata": {
        "id": "srbwmjfjxhy5"
      },
      "source": [
        "### Let's begin with some hands-on practice exercises"
      ]
    },
    {
      "cell_type": "markdown",
      "metadata": {
        "collapsed": true,
        "id": "ISiA14koxhy6"
      },
      "source": [
        "<table align=\"left\">\n",
        "    <tr>\n",
        "        <td width=\"6%\">\n",
        "            <img src=\"question_icon.png\">\n",
        "        </td>\n",
        "        <td>\n",
        "            <div align=\"left\", style=\"font-size:120%\">\n",
        "                <font color=\"#21618C\">\n",
        "                    <b>1. Check the data type of each variable and if any variable is wrongly identified, do the needful</b>\n",
        "                </font>\n",
        "            </div>\n",
        "        </td>\n",
        "    </tr>\n",
        "</table>"
      ]
    },
    {
      "cell_type": "code",
      "metadata": {
        "colab": {
          "base_uri": "https://localhost:8080/"
        },
        "id": "3BdHWi91xhy6",
        "outputId": "1148930f-3f5c-42e7-86d8-a6ad66af7e1b"
      },
      "source": [
        "# type your code here\r\n",
        "df.dtypes\r\n"
      ],
      "execution_count": null,
      "outputs": [
        {
          "output_type": "execute_result",
          "data": {
            "text/plain": [
              "Country                             object\n",
              "Year                                 int64\n",
              "Status                              object\n",
              "Life expectancy                    float64\n",
              "Adult mortality                    float64\n",
              "Infant deaths                        int64\n",
              "Alcohol                            float64\n",
              "Percentage expenditure             float64\n",
              "Hepatitis B                        float64\n",
              "Measles                              int64\n",
              "BMI                                float64\n",
              "Under-five deaths                    int64\n",
              "Polio                              float64\n",
              "Total expenditure                  float64\n",
              "Diphtheria                         float64\n",
              "HIV/AIDS                           float64\n",
              "GDP                                float64\n",
              "Population                          object\n",
              "Thinness  1-19 years               float64\n",
              "Thinness 5-9 years                 float64\n",
              "Income composition of resources    float64\n",
              "Schooling                          float64\n",
              "dtype: object"
            ]
          },
          "metadata": {
            "tags": []
          },
          "execution_count": 7
        }
      ]
    },
    {
      "cell_type": "code",
      "metadata": {
        "colab": {
          "base_uri": "https://localhost:8080/"
        },
        "id": "FHXhf5yz1XXS",
        "outputId": "5c14b194-5293-40a4-ae1c-6420a6c113f8"
      },
      "source": [
        "df.dtypes=='object'"
      ],
      "execution_count": null,
      "outputs": [
        {
          "output_type": "execute_result",
          "data": {
            "text/plain": [
              "Country                             True\n",
              "Year                               False\n",
              "Status                              True\n",
              "Life expectancy                    False\n",
              "Adult mortality                    False\n",
              "Infant deaths                      False\n",
              "Alcohol                            False\n",
              "Percentage expenditure             False\n",
              "Hepatitis B                        False\n",
              "Measles                            False\n",
              "BMI                                False\n",
              "Under-five deaths                  False\n",
              "Polio                              False\n",
              "Total expenditure                  False\n",
              "Diphtheria                         False\n",
              "HIV/AIDS                           False\n",
              "GDP                                False\n",
              "Population                          True\n",
              "Thinness  1-19 years               False\n",
              "Thinness 5-9 years                 False\n",
              "Income composition of resources    False\n",
              "Schooling                          False\n",
              "dtype: bool"
            ]
          },
          "metadata": {
            "tags": []
          },
          "execution_count": 8
        }
      ]
    },
    {
      "cell_type": "code",
      "metadata": {
        "colab": {
          "base_uri": "https://localhost:8080/"
        },
        "id": "D3gzwqvD1c7Y",
        "outputId": "2637f648-2908-4192-9f1b-33f98dc2cf6a"
      },
      "source": [
        "numerical=df.columns[df.dtypes!= 'object']\r\n",
        "categorical=df.columns[df.dtypes=='object']\r\n",
        "\r\n",
        "print(numerical)\r\n",
        "print(categorical)"
      ],
      "execution_count": null,
      "outputs": [
        {
          "output_type": "stream",
          "text": [
            "Index(['Year', 'Life expectancy', 'Adult mortality', 'Infant deaths',\n",
            "       'Alcohol', 'Percentage expenditure', 'Hepatitis B', 'Measles', 'BMI',\n",
            "       'Under-five deaths', 'Polio', 'Total expenditure', 'Diphtheria',\n",
            "       'HIV/AIDS', 'GDP', 'Thinness  1-19 years', 'Thinness 5-9 years',\n",
            "       'Income composition of resources', 'Schooling'],\n",
            "      dtype='object')\n",
            "Index(['Country', 'Status', 'Population'], dtype='object')\n"
          ],
          "name": "stdout"
        }
      ]
    },
    {
      "cell_type": "markdown",
      "metadata": {
        "collapsed": true,
        "id": "hWnVVyDPxhy6"
      },
      "source": [
        "<table align=\"left\">\n",
        "    <tr>\n",
        "        <td width=\"6%\">\n",
        "            <img src=\"question_icon.png\">\n",
        "        </td>\n",
        "        <td>\n",
        "            <div align=\"left\", style=\"font-size:120%\">\n",
        "                <font color=\"#21618C\">\n",
        "                    <b>2. Create a DataFrame containing the count and percentage of missing entries in each variable</b>\n",
        "                </font>\n",
        "            </div>\n",
        "        </td>\n",
        "    </tr>\n",
        "</table>"
      ]
    },
    {
      "cell_type": "code",
      "metadata": {
        "colab": {
          "base_uri": "https://localhost:8080/"
        },
        "id": "-T_kH3T4xhy7",
        "outputId": "c3111144-040f-4c73-d2e7-7e61b05f091b"
      },
      "source": [
        "# type your code here\r\n",
        "df[numerical].isnull().sum()"
      ],
      "execution_count": null,
      "outputs": [
        {
          "output_type": "execute_result",
          "data": {
            "text/plain": [
              "Year                                 0\n",
              "Life expectancy                     10\n",
              "Adult mortality                     10\n",
              "Infant deaths                        0\n",
              "Alcohol                            194\n",
              "Percentage expenditure               0\n",
              "Hepatitis B                        553\n",
              "Measles                              0\n",
              "BMI                                 34\n",
              "Under-five deaths                    0\n",
              "Polio                               19\n",
              "Total expenditure                  226\n",
              "Diphtheria                          19\n",
              "HIV/AIDS                             0\n",
              "GDP                                448\n",
              "Thinness  1-19 years                34\n",
              "Thinness 5-9 years                  34\n",
              "Income composition of resources    167\n",
              "Schooling                          163\n",
              "dtype: int64"
            ]
          },
          "metadata": {
            "tags": []
          },
          "execution_count": 11
        }
      ]
    },
    {
      "cell_type": "code",
      "metadata": {
        "id": "IAyDHM8j2NHd"
      },
      "source": [
        "cn=df[numerical].isnull().sum().sort_values(ascending=False)"
      ],
      "execution_count": null,
      "outputs": []
    },
    {
      "cell_type": "code",
      "metadata": {
        "colab": {
          "base_uri": "https://localhost:8080/"
        },
        "id": "VtLhdJyU2-44",
        "outputId": "ccb04535-f75e-4047-fd3c-0e13273a51f7"
      },
      "source": [
        "cn"
      ],
      "execution_count": null,
      "outputs": [
        {
          "output_type": "execute_result",
          "data": {
            "text/plain": [
              "Hepatitis B                        553\n",
              "GDP                                448\n",
              "Total expenditure                  226\n",
              "Alcohol                            194\n",
              "Income composition of resources    167\n",
              "Schooling                          163\n",
              "Thinness 5-9 years                  34\n",
              "Thinness  1-19 years                34\n",
              "BMI                                 34\n",
              "Diphtheria                          19\n",
              "Polio                               19\n",
              "Life expectancy                     10\n",
              "Adult mortality                     10\n",
              "Infant deaths                        0\n",
              "Under-five deaths                    0\n",
              "Percentage expenditure               0\n",
              "Measles                              0\n",
              "HIV/AIDS                             0\n",
              "Year                                 0\n",
              "dtype: int64"
            ]
          },
          "metadata": {
            "tags": []
          },
          "execution_count": 30
        }
      ]
    },
    {
      "cell_type": "code",
      "metadata": {
        "colab": {
          "base_uri": "https://localhost:8080/"
        },
        "id": "Fq59ob8t3AxO",
        "outputId": "9a245905-dd6d-4316-ee9d-6c57928beb99"
      },
      "source": [
        "len(df)"
      ],
      "execution_count": null,
      "outputs": [
        {
          "output_type": "execute_result",
          "data": {
            "text/plain": [
              "2938"
            ]
          },
          "metadata": {
            "tags": []
          },
          "execution_count": 18
        }
      ]
    },
    {
      "cell_type": "code",
      "metadata": {
        "colab": {
          "base_uri": "https://localhost:8080/"
        },
        "id": "hh_kVHnj2kDj",
        "outputId": "ae7a6169-9d7b-4361-a890-9771617302e1"
      },
      "source": [
        "per_missingNum = cn/len(df)\r\n",
        "per_missingNum"
      ],
      "execution_count": null,
      "outputs": [
        {
          "output_type": "execute_result",
          "data": {
            "text/plain": [
              "Hepatitis B                        0.188223\n",
              "GDP                                0.152485\n",
              "Total expenditure                  0.076923\n",
              "Alcohol                            0.066031\n",
              "Income composition of resources    0.056841\n",
              "Schooling                          0.055480\n",
              "Thinness 5-9 years                 0.011572\n",
              "Thinness  1-19 years               0.011572\n",
              "BMI                                0.011572\n",
              "Diphtheria                         0.006467\n",
              "Polio                              0.006467\n",
              "Life expectancy                    0.003404\n",
              "Adult mortality                    0.003404\n",
              "Infant deaths                      0.000000\n",
              "Under-five deaths                  0.000000\n",
              "Percentage expenditure             0.000000\n",
              "Measles                            0.000000\n",
              "HIV/AIDS                           0.000000\n",
              "Year                               0.000000\n",
              "dtype: float64"
            ]
          },
          "metadata": {
            "tags": []
          },
          "execution_count": 31
        }
      ]
    },
    {
      "cell_type": "code",
      "metadata": {
        "id": "UKJC5efq3NgT"
      },
      "source": [
        "cc=df[categorical].isnull().sum().sort_values(ascending=False)"
      ],
      "execution_count": null,
      "outputs": []
    },
    {
      "cell_type": "code",
      "metadata": {
        "colab": {
          "base_uri": "https://localhost:8080/"
        },
        "id": "3F79WNZL3bNS",
        "outputId": "592df00f-3aa7-4205-fb27-61fa6cdd79c9"
      },
      "source": [
        "cc"
      ],
      "execution_count": null,
      "outputs": [
        {
          "output_type": "execute_result",
          "data": {
            "text/plain": [
              "Status        16\n",
              "Population     0\n",
              "Country        0\n",
              "dtype: int64"
            ]
          },
          "metadata": {
            "tags": []
          },
          "execution_count": 24
        }
      ]
    },
    {
      "cell_type": "code",
      "metadata": {
        "colab": {
          "base_uri": "https://localhost:8080/"
        },
        "id": "ZZUh9Nrm3b-d",
        "outputId": "e2e333ae-f031-412a-b798-2e31b2e6bfe4"
      },
      "source": [
        "per_missingCat = cc/len(df)\r\n",
        "per_missingCat"
      ],
      "execution_count": null,
      "outputs": [
        {
          "output_type": "execute_result",
          "data": {
            "text/plain": [
              "Status        0.005446\n",
              "Population    0.000000\n",
              "Country       0.000000\n",
              "dtype: float64"
            ]
          },
          "metadata": {
            "tags": []
          },
          "execution_count": 33
        }
      ]
    },
    {
      "cell_type": "code",
      "metadata": {
        "colab": {
          "base_uri": "https://localhost:8080/",
          "height": 49
        },
        "id": "M-CSX-Aj3inL",
        "outputId": "a519d5e1-b95d-43d4-f9e4-75919e22c819"
      },
      "source": [
        "df2 = pd.DataFrame(columns=['cc', 'per_missingCat', 'cn', 'per_missingNum'])\r\n",
        "df2.head()"
      ],
      "execution_count": null,
      "outputs": [
        {
          "output_type": "execute_result",
          "data": {
            "text/html": [
              "<div>\n",
              "<style scoped>\n",
              "    .dataframe tbody tr th:only-of-type {\n",
              "        vertical-align: middle;\n",
              "    }\n",
              "\n",
              "    .dataframe tbody tr th {\n",
              "        vertical-align: top;\n",
              "    }\n",
              "\n",
              "    .dataframe thead th {\n",
              "        text-align: right;\n",
              "    }\n",
              "</style>\n",
              "<table border=\"1\" class=\"dataframe\">\n",
              "  <thead>\n",
              "    <tr style=\"text-align: right;\">\n",
              "      <th></th>\n",
              "      <th>cc</th>\n",
              "      <th>per_missingCat</th>\n",
              "      <th>cn</th>\n",
              "      <th>per_missingNum</th>\n",
              "    </tr>\n",
              "  </thead>\n",
              "  <tbody>\n",
              "  </tbody>\n",
              "</table>\n",
              "</div>"
            ],
            "text/plain": [
              "Empty DataFrame\n",
              "Columns: [cc, per_missingCat, cn, per_missingNum]\n",
              "Index: []"
            ]
          },
          "metadata": {
            "tags": []
          },
          "execution_count": 28
        }
      ]
    },
    {
      "cell_type": "code",
      "metadata": {
        "id": "bw33zoC54CAF"
      },
      "source": [
        ""
      ],
      "execution_count": null,
      "outputs": []
    },
    {
      "cell_type": "markdown",
      "metadata": {
        "collapsed": true,
        "id": "HEI3CXs7xhy7"
      },
      "source": [
        "<table align=\"left\">\n",
        "    <tr>\n",
        "        <td width=\"6%\">\n",
        "            <img src=\"question_icon.png\">\n",
        "        </td>\n",
        "        <td>\n",
        "            <div align=\"left\", style=\"font-size:120%\">\n",
        "                <font color=\"#21618C\">\n",
        "                    <b>3a. Are there any extreme values present in the government's total expenditure on health?\n",
        " </b>\n",
        "                </font>\n",
        "            </div>\n",
        "        </td>\n",
        "    </tr>\n",
        "</table>"
      ]
    },
    {
      "cell_type": "code",
      "metadata": {
        "id": "_rL4ZbmRxhy7",
        "colab": {
          "base_uri": "https://localhost:8080/",
          "height": 282
        },
        "outputId": "4c0f990a-3f8b-4492-884f-de4c2041dbe6"
      },
      "source": [
        "# type your code here\r\n",
        "sns.set_style('whitegrid')\r\n",
        "df['Total expenditure'].plot(kind='box')"
      ],
      "execution_count": null,
      "outputs": [
        {
          "output_type": "execute_result",
          "data": {
            "text/plain": [
              "<matplotlib.axes._subplots.AxesSubplot at 0x7fec59ff7e80>"
            ]
          },
          "metadata": {
            "tags": []
          },
          "execution_count": 40
        },
        {
          "output_type": "display_data",
          "data": {
            "image/png": "[encoded data removed]",
            "text/plain": [
              "<Figure size 432x288 with 1 Axes>"
            ]
          },
          "metadata": {
            "tags": []
          }
        }
      ]
    },
    {
      "cell_type": "code",
      "metadata": {
        "colab": {
          "base_uri": "https://localhost:8080/"
        },
        "id": "cM22rnzV_bUD",
        "outputId": "62170c77-a9dd-44d7-d4f2-ed44627e92ff"
      },
      "source": [
        "ext= df['Total expenditure'].describe()['75%'] + (df['Total expenditure'].describe()['75%'] - df['Total expenditure'].describe()['25%'])*1.5\r\n",
        "df.loc[(df['Total expenditure'] <= ext) & (df['Total expenditure'] > (df['Total expenditure'].describe()['75%']))]['Total expenditure'].sort_values()"
      ],
      "execution_count": 4,
      "outputs": [
        {
          "output_type": "execute_result",
          "data": {
            "text/plain": [
              "2497     7.50\n",
              "1262     7.50\n",
              "762      7.50\n",
              "162      7.50\n",
              "693      7.50\n",
              "        ...  \n",
              "1707    11.99\n",
              "1709    12.11\n",
              "1385    12.23\n",
              "1384    12.24\n",
              "2307    12.25\n",
              "Name: Total expenditure, Length: 646, dtype: float64"
            ]
          },
          "metadata": {
            "tags": []
          },
          "execution_count": 4
        }
      ]
    },
    {
      "cell_type": "markdown",
      "metadata": {
        "collapsed": true,
        "id": "aZrN5KKCxhy7"
      },
      "source": [
        "<table align=\"left\">\n",
        "    <tr>\n",
        "        <td width=\"6%\">\n",
        "            <img src=\"question_icon.png\">\n",
        "        </td>\n",
        "        <td>\n",
        "            <div align=\"left\", style=\"font-size:120%\">\n",
        "                <font color=\"#21618C\">\n",
        "                    <b>3b. Remove the outliers present in 'Total expenditure' using the quartiles of the variable\t\n",
        "</b>\n",
        "                </font>\n",
        "            </div>\n",
        "        </td>\n",
        "    </tr>\n",
        "</table>"
      ]
    },
    {
      "cell_type": "code",
      "metadata": {
        "id": "StNZfcKZxhy8"
      },
      "source": [
        "# type your code here\r\n",
        "q1= df['Total expenditure'].quantile(0.25)\r\n",
        "q3= df['Total expenditure'].quantile(0.75)\r\n",
        "iqr= q3-q1\r\n",
        "upper= q3 + 1.5*iqr\r\n",
        "lower= q1 - 1.5*iqr\r\n",
        "\r\n",
        "remove= df[(df['Total expenditure'] > upper) | (df['Total expenditure'] < lower)]['Total expenditure'].values"
      ],
      "execution_count": 5,
      "outputs": []
    },
    {
      "cell_type": "code",
      "metadata": {
        "colab": {
          "base_uri": "https://localhost:8080/"
        },
        "id": "gESZOZ4fAXng",
        "outputId": "bea63c51-8a2c-48df-b591-3331b5a9775b"
      },
      "source": [
        "remove"
      ],
      "execution_count": 7,
      "outputs": [
        {
          "output_type": "execute_result",
          "data": {
            "text/plain": [
              "array([13.66, 14.39, 12.6 , 13.73, 17.24, 13.71, 13.38, 12.77, 13.76,\n",
              "       13.83, 13.44, 12.94, 12.8 , 12.49, 13.13, 13.63, 16.61, 17.14,\n",
              "       16.9 , 17.2 , 17.6 , 17.2 , 17.  , 16.2 , 15.57, 15.27, 15.15,\n",
              "       15.14, 15.6 , 14.55, 13.73, 13.7 ])"
            ]
          },
          "metadata": {
            "tags": []
          },
          "execution_count": 7
        }
      ]
    },
    {
      "cell_type": "code",
      "metadata": {
        "colab": {
          "base_uri": "https://localhost:8080/"
        },
        "id": "lD0UgfCjAUV0",
        "outputId": "6a619126-9ce0-4b9c-d535-51aa6959c264"
      },
      "source": [
        "df['Total expenditure'].isna().sum()"
      ],
      "execution_count": 6,
      "outputs": [
        {
          "output_type": "execute_result",
          "data": {
            "text/plain": [
              "226"
            ]
          },
          "metadata": {
            "tags": []
          },
          "execution_count": 6
        }
      ]
    },
    {
      "cell_type": "markdown",
      "metadata": {
        "collapsed": true,
        "id": "fhY-PDPjxhy8"
      },
      "source": [
        "<table align=\"left\">\n",
        "    <tr>\n",
        "        <td width=\"6%\">\n",
        "            <img src=\"question_icon.png\">\n",
        "        </td>\n",
        "        <td>\n",
        "            <div align=\"left\", style=\"font-size:120%\">\n",
        "                <font color=\"#21618C\">\n",
        "                    <b>4. Split the data such that 'X' will contain all the indepentdent variables and 'y' will contain the target variable</b>\n",
        "                </font>\n",
        "            </div>\n",
        "        </td>\n",
        "    </tr>\n",
        "</table>"
      ]
    },
    {
      "cell_type": "markdown",
      "metadata": {
        "id": "v57zz3D1xhy8"
      },
      "source": [
        "**Hint:** 'Life expectancy' is the target variable depending on the remaining variables."
      ]
    },
    {
      "cell_type": "code",
      "metadata": {
        "id": "fH-kkdUfxhy8",
        "colab": {
          "base_uri": "https://localhost:8080/",
          "height": 275
        },
        "outputId": "834683ed-d13a-4865-94f8-77d633e98970"
      },
      "source": [
        "# type your code here\r\n",
        "\r\n",
        "x= df.loc[:, df.columns != 'Life expectancy']\r\n",
        "x.head()"
      ],
      "execution_count": 8,
      "outputs": [
        {
          "output_type": "execute_result",
          "data": {
            "text/html": [
              "<div>\n",
              "<style scoped>\n",
              "    .dataframe tbody tr th:only-of-type {\n",
              "        vertical-align: middle;\n",
              "    }\n",
              "\n",
              "    .dataframe tbody tr th {\n",
              "        vertical-align: top;\n",
              "    }\n",
              "\n",
              "    .dataframe thead th {\n",
              "        text-align: right;\n",
              "    }\n",
              "</style>\n",
              "<table border=\"1\" class=\"dataframe\">\n",
              "  <thead>\n",
              "    <tr style=\"text-align: right;\">\n",
              "      <th></th>\n",
              "      <th>Country</th>\n",
              "      <th>Year</th>\n",
              "      <th>Status</th>\n",
              "      <th>Adult mortality</th>\n",
              "      <th>Infant deaths</th>\n",
              "      <th>Alcohol</th>\n",
              "      <th>Percentage expenditure</th>\n",
              "      <th>Hepatitis B</th>\n",
              "      <th>Measles</th>\n",
              "      <th>BMI</th>\n",
              "      <th>Under-five deaths</th>\n",
              "      <th>Polio</th>\n",
              "      <th>Total expenditure</th>\n",
              "      <th>Diphtheria</th>\n",
              "      <th>HIV/AIDS</th>\n",
              "      <th>GDP</th>\n",
              "      <th>Population</th>\n",
              "      <th>Thinness  1-19 years</th>\n",
              "      <th>Thinness 5-9 years</th>\n",
              "      <th>Income composition of resources</th>\n",
              "      <th>Schooling</th>\n",
              "    </tr>\n",
              "  </thead>\n",
              "  <tbody>\n",
              "    <tr>\n",
              "      <th>0</th>\n",
              "      <td>Afghanistan</td>\n",
              "      <td>2015</td>\n",
              "      <td>Developing</td>\n",
              "      <td>263.0</td>\n",
              "      <td>62</td>\n",
              "      <td>0.01</td>\n",
              "      <td>71.279624</td>\n",
              "      <td>65.0</td>\n",
              "      <td>1154</td>\n",
              "      <td>19.1</td>\n",
              "      <td>83</td>\n",
              "      <td>6.0</td>\n",
              "      <td>8.16</td>\n",
              "      <td>65.0</td>\n",
              "      <td>0.1</td>\n",
              "      <td>584.259210</td>\n",
              "      <td>33736494</td>\n",
              "      <td>17.2</td>\n",
              "      <td>17.3</td>\n",
              "      <td>0.479</td>\n",
              "      <td>10.1</td>\n",
              "    </tr>\n",
              "    <tr>\n",
              "      <th>1</th>\n",
              "      <td>Afghanistan</td>\n",
              "      <td>2014</td>\n",
              "      <td>Developing</td>\n",
              "      <td>271.0</td>\n",
              "      <td>64</td>\n",
              "      <td>0.01</td>\n",
              "      <td>73.523582</td>\n",
              "      <td>62.0</td>\n",
              "      <td>492</td>\n",
              "      <td>18.6</td>\n",
              "      <td>86</td>\n",
              "      <td>58.0</td>\n",
              "      <td>8.18</td>\n",
              "      <td>62.0</td>\n",
              "      <td>0.1</td>\n",
              "      <td>612.696514</td>\n",
              "      <td>327582</td>\n",
              "      <td>17.5</td>\n",
              "      <td>17.5</td>\n",
              "      <td>0.476</td>\n",
              "      <td>10.0</td>\n",
              "    </tr>\n",
              "    <tr>\n",
              "      <th>2</th>\n",
              "      <td>Afghanistan</td>\n",
              "      <td>2013</td>\n",
              "      <td>Developing</td>\n",
              "      <td>268.0</td>\n",
              "      <td>66</td>\n",
              "      <td>0.01</td>\n",
              "      <td>73.219243</td>\n",
              "      <td>64.0</td>\n",
              "      <td>430</td>\n",
              "      <td>18.1</td>\n",
              "      <td>89</td>\n",
              "      <td>62.0</td>\n",
              "      <td>8.13</td>\n",
              "      <td>64.0</td>\n",
              "      <td>0.1</td>\n",
              "      <td>631.744976</td>\n",
              "      <td>31731688</td>\n",
              "      <td>17.7</td>\n",
              "      <td>17.7</td>\n",
              "      <td>0.470</td>\n",
              "      <td>9.9</td>\n",
              "    </tr>\n",
              "    <tr>\n",
              "      <th>3</th>\n",
              "      <td>Afghanistan</td>\n",
              "      <td>2012</td>\n",
              "      <td>Developing</td>\n",
              "      <td>272.0</td>\n",
              "      <td>69</td>\n",
              "      <td>0.01</td>\n",
              "      <td>78.184215</td>\n",
              "      <td>67.0</td>\n",
              "      <td>2787</td>\n",
              "      <td>17.6</td>\n",
              "      <td>93</td>\n",
              "      <td>67.0</td>\n",
              "      <td>8.52</td>\n",
              "      <td>67.0</td>\n",
              "      <td>0.1</td>\n",
              "      <td>669.959000</td>\n",
              "      <td>3696958</td>\n",
              "      <td>17.9</td>\n",
              "      <td>18.0</td>\n",
              "      <td>0.463</td>\n",
              "      <td>9.8</td>\n",
              "    </tr>\n",
              "    <tr>\n",
              "      <th>4</th>\n",
              "      <td>Afghanistan</td>\n",
              "      <td>2011</td>\n",
              "      <td>Developing</td>\n",
              "      <td>275.0</td>\n",
              "      <td>71</td>\n",
              "      <td>0.01</td>\n",
              "      <td>7.097109</td>\n",
              "      <td>68.0</td>\n",
              "      <td>3013</td>\n",
              "      <td>17.2</td>\n",
              "      <td>97</td>\n",
              "      <td>68.0</td>\n",
              "      <td>7.87</td>\n",
              "      <td>68.0</td>\n",
              "      <td>0.1</td>\n",
              "      <td>63.537231</td>\n",
              "      <td>2978599</td>\n",
              "      <td>18.2</td>\n",
              "      <td>18.2</td>\n",
              "      <td>0.454</td>\n",
              "      <td>9.5</td>\n",
              "    </tr>\n",
              "  </tbody>\n",
              "</table>\n",
              "</div>"
            ],
            "text/plain": [
              "       Country  Year  ... Income composition of resources  Schooling\n",
              "0  Afghanistan  2015  ...                           0.479       10.1\n",
              "1  Afghanistan  2014  ...                           0.476       10.0\n",
              "2  Afghanistan  2013  ...                           0.470        9.9\n",
              "3  Afghanistan  2012  ...                           0.463        9.8\n",
              "4  Afghanistan  2011  ...                           0.454        9.5\n",
              "\n",
              "[5 rows x 21 columns]"
            ]
          },
          "metadata": {
            "tags": []
          },
          "execution_count": 8
        }
      ]
    },
    {
      "cell_type": "code",
      "metadata": {
        "id": "60UeGjm0AqKp"
      },
      "source": [
        "y= df['Life expectancy']"
      ],
      "execution_count": 9,
      "outputs": []
    },
    {
      "cell_type": "markdown",
      "metadata": {
        "collapsed": true,
        "id": "ebABBeFmxhy9"
      },
      "source": [
        "<table align=\"left\">\n",
        "    <tr>\n",
        "        <td width=\"6%\">\n",
        "            <img src=\"question_icon.png\">\n",
        "        </td>\n",
        "        <td>\n",
        "            <div align=\"left\", style=\"font-size:120%\">\n",
        "                <font color=\"#21618C\">\n",
        "                    <b>5. Split the independent variables into two sets with the proportion of 70:30</b>\n",
        "                </font>\n",
        "            </div>\n",
        "        </td>\n",
        "    </tr>\n",
        "</table>"
      ]
    },
    {
      "cell_type": "code",
      "metadata": {
        "id": "kIZlVG2nxhy9",
        "colab": {
          "base_uri": "https://localhost:8080/"
        },
        "outputId": "028d1eb0-c8ce-4562-a698-5bf0b66f98e1"
      },
      "source": [
        "# type your code here\r\n",
        "\r\n",
        "print(0.7*df.shape[0])"
      ],
      "execution_count": 10,
      "outputs": [
        {
          "output_type": "stream",
          "text": [
            "2056.6\n"
          ],
          "name": "stdout"
        }
      ]
    },
    {
      "cell_type": "code",
      "metadata": {
        "id": "06mznrrzA22h"
      },
      "source": [
        "split_1= df.iloc[:2056, :]\r\n",
        "split_2= df.iloc[2056:, :]"
      ],
      "execution_count": 11,
      "outputs": []
    },
    {
      "cell_type": "code",
      "metadata": {
        "colab": {
          "base_uri": "https://localhost:8080/"
        },
        "id": "564B_J6ZBBWg",
        "outputId": "e6943c30-28a6-4392-fdf2-b60a3a4fec16"
      },
      "source": [
        "print(split_1)\r\n",
        "print(split_2)"
      ],
      "execution_count": 12,
      "outputs": [
        {
          "output_type": "stream",
          "text": [
            "          Country  Year  ... Income composition of resources  Schooling\n",
            "0     Afghanistan  2015  ...                           0.479       10.1\n",
            "1     Afghanistan  2014  ...                           0.476       10.0\n",
            "2     Afghanistan  2013  ...                           0.470        9.9\n",
            "3     Afghanistan  2012  ...                           0.463        9.8\n",
            "4     Afghanistan  2011  ...                           0.454        9.5\n",
            "...           ...   ...  ...                             ...        ...\n",
            "2051       Poland  2003  ...                           0.796       15.3\n",
            "2052       Poland  2002  ...                           0.790       15.0\n",
            "2053       Poland  2001  ...                           0.784       14.7\n",
            "2054       Poland  2000  ...                           0.777       14.6\n",
            "2055     Portugal  2015  ...                           0.841       16.6\n",
            "\n",
            "[2056 rows x 22 columns]\n",
            "       Country  Year  ... Income composition of resources  Schooling\n",
            "2056  Portugal  2014  ...                           0.837       16.8\n",
            "2057  Portugal  2013  ...                           0.827       16.3\n",
            "2058  Portugal  2012  ...                           0.824       16.3\n",
            "2059  Portugal  2011  ...                           0.818       16.2\n",
            "2060  Portugal  2010  ...                           0.812       16.0\n",
            "...        ...   ...  ...                             ...        ...\n",
            "2933  Zimbabwe  2004  ...                           0.407        9.2\n",
            "2934  Zimbabwe  2003  ...                           0.418        9.5\n",
            "2935  Zimbabwe  2002  ...                           0.427       10.0\n",
            "2936  Zimbabwe  2001  ...                           0.427        9.8\n",
            "2937  Zimbabwe  2000  ...                           0.434        9.8\n",
            "\n",
            "[882 rows x 22 columns]\n"
          ],
          "name": "stdout"
        }
      ]
    },
    {
      "cell_type": "markdown",
      "metadata": {
        "collapsed": true,
        "id": "szFxOhw5xhy9"
      },
      "source": [
        "<table align=\"left\">\n",
        "    <tr>\n",
        "        <td width=\"6%\">\n",
        "            <img src=\"question_icon.png\">\n",
        "        </td>\n",
        "        <td>\n",
        "            <div align=\"left\", style=\"font-size:120%\">\n",
        "                <font color=\"#21618C\">\n",
        "                    <b>6. How would you treat the missing values in the variable 'GDP'?</b>\n",
        "                </font>\n",
        "            </div>\n",
        "        </td>\n",
        "    </tr>\n",
        "</table>"
      ]
    },
    {
      "cell_type": "code",
      "metadata": {
        "id": "QXLcFwEVxhy9",
        "colab": {
          "base_uri": "https://localhost:8080/",
          "height": 333
        },
        "outputId": "71d33a79-590e-46a3-dc9d-80f2cce46dbe"
      },
      "source": [
        "# type your code here\r\n",
        "sns.set_style('whitegrid')\r\n",
        "sns.distplot(df['GDP'])\r\n",
        "plt.show()\r\n"
      ],
      "execution_count": 15,
      "outputs": [
        {
          "output_type": "stream",
          "text": [
            "/usr/local/lib/python3.6/dist-packages/seaborn/distributions.py:2557: FutureWarning: `distplot` is a deprecated function and will be removed in a future version. Please adapt your code to use either `displot` (a figure-level function with similar flexibility) or `histplot` (an axes-level function for histograms).\n",
            "  warnings.warn(msg, FutureWarning)\n"
          ],
          "name": "stderr"
        },
        {
          "output_type": "display_data",
          "data": {
            "image/png": "[encoded data removed]",
            "text/plain": [
              "<Figure size 432x288 with 1 Axes>"
            ]
          },
          "metadata": {
            "tags": []
          }
        }
      ]
    },
    {
      "cell_type": "markdown",
      "metadata": {
        "id": "LbFdFT5sBcPX"
      },
      "source": [
        "Since it is right skewed, we use medain or Replace the nan value"
      ]
    },
    {
      "cell_type": "markdown",
      "metadata": {
        "collapsed": true,
        "id": "yfwa4ySZxhy-"
      },
      "source": [
        "<table align=\"left\">\n",
        "    <tr>\n",
        "        <td width=\"6%\">\n",
        "            <img src=\"question_icon.png\">\n",
        "        </td>\n",
        "        <td>\n",
        "            <div align=\"left\", style=\"font-size:120%\">\n",
        "                <font color=\"#21618C\">\n",
        "                    <b>7.There are 16 observations for which the status of the corresponding country is unknown, impute this status with an appropriate values</b>\n",
        "                </font>\n",
        "            </div>\n",
        "        </td>\n",
        "    </tr>\n",
        "</table>"
      ]
    },
    {
      "cell_type": "markdown",
      "metadata": {
        "id": "0LD8jBnYBRQk"
      },
      "source": [
        ""
      ]
    },
    {
      "cell_type": "code",
      "metadata": {
        "id": "Z3ku-Y7Hxhy-",
        "colab": {
          "base_uri": "https://localhost:8080/",
          "height": 684
        },
        "outputId": "ac43a726-24e5-458c-ec58-ddb8d251adaf"
      },
      "source": [
        "# type your code here\r\n",
        "\r\n",
        "df.loc[df['Status'].isna()]"
      ],
      "execution_count": 16,
      "outputs": [
        {
          "output_type": "execute_result",
          "data": {
            "text/html": [
              "<div>\n",
              "<style scoped>\n",
              "    .dataframe tbody tr th:only-of-type {\n",
              "        vertical-align: middle;\n",
              "    }\n",
              "\n",
              "    .dataframe tbody tr th {\n",
              "        vertical-align: top;\n",
              "    }\n",
              "\n",
              "    .dataframe thead th {\n",
              "        text-align: right;\n",
              "    }\n",
              "</style>\n",
              "<table border=\"1\" class=\"dataframe\">\n",
              "  <thead>\n",
              "    <tr style=\"text-align: right;\">\n",
              "      <th></th>\n",
              "      <th>Country</th>\n",
              "      <th>Year</th>\n",
              "      <th>Status</th>\n",
              "      <th>Life expectancy</th>\n",
              "      <th>Adult mortality</th>\n",
              "      <th>Infant deaths</th>\n",
              "      <th>Alcohol</th>\n",
              "      <th>Percentage expenditure</th>\n",
              "      <th>Hepatitis B</th>\n",
              "      <th>Measles</th>\n",
              "      <th>BMI</th>\n",
              "      <th>Under-five deaths</th>\n",
              "      <th>Polio</th>\n",
              "      <th>Total expenditure</th>\n",
              "      <th>Diphtheria</th>\n",
              "      <th>HIV/AIDS</th>\n",
              "      <th>GDP</th>\n",
              "      <th>Population</th>\n",
              "      <th>Thinness  1-19 years</th>\n",
              "      <th>Thinness 5-9 years</th>\n",
              "      <th>Income composition of resources</th>\n",
              "      <th>Schooling</th>\n",
              "    </tr>\n",
              "  </thead>\n",
              "  <tbody>\n",
              "    <tr>\n",
              "      <th>6</th>\n",
              "      <td>Afghanistan</td>\n",
              "      <td>2009</td>\n",
              "      <td>NaN</td>\n",
              "      <td>58.6</td>\n",
              "      <td>281.0</td>\n",
              "      <td>77</td>\n",
              "      <td>0.01</td>\n",
              "      <td>56.762217</td>\n",
              "      <td>63.0</td>\n",
              "      <td>2861</td>\n",
              "      <td>16.2</td>\n",
              "      <td>106</td>\n",
              "      <td>63.0</td>\n",
              "      <td>9.42</td>\n",
              "      <td>63.0</td>\n",
              "      <td>0.1</td>\n",
              "      <td>445.893298</td>\n",
              "      <td>284331</td>\n",
              "      <td>18.6</td>\n",
              "      <td>18.7</td>\n",
              "      <td>0.434</td>\n",
              "      <td>8.9</td>\n",
              "    </tr>\n",
              "    <tr>\n",
              "      <th>15</th>\n",
              "      <td>Afghanistan</td>\n",
              "      <td>2000</td>\n",
              "      <td>NaN</td>\n",
              "      <td>54.8</td>\n",
              "      <td>321.0</td>\n",
              "      <td>88</td>\n",
              "      <td>0.01</td>\n",
              "      <td>10.424960</td>\n",
              "      <td>62.0</td>\n",
              "      <td>6532</td>\n",
              "      <td>12.2</td>\n",
              "      <td>122</td>\n",
              "      <td>24.0</td>\n",
              "      <td>8.20</td>\n",
              "      <td>24.0</td>\n",
              "      <td>0.1</td>\n",
              "      <td>114.560000</td>\n",
              "      <td>293756</td>\n",
              "      <td>2.3</td>\n",
              "      <td>2.5</td>\n",
              "      <td>0.338</td>\n",
              "      <td>5.5</td>\n",
              "    </tr>\n",
              "    <tr>\n",
              "      <th>27</th>\n",
              "      <td>Albania</td>\n",
              "      <td>2004</td>\n",
              "      <td>NaN</td>\n",
              "      <td>73.0</td>\n",
              "      <td>17.0</td>\n",
              "      <td>1</td>\n",
              "      <td>4.54</td>\n",
              "      <td>221.842800</td>\n",
              "      <td>99.0</td>\n",
              "      <td>7</td>\n",
              "      <td>48.9</td>\n",
              "      <td>1</td>\n",
              "      <td>98.0</td>\n",
              "      <td>6.38</td>\n",
              "      <td>97.0</td>\n",
              "      <td>0.1</td>\n",
              "      <td>2416.588235</td>\n",
              "      <td>326939</td>\n",
              "      <td>1.8</td>\n",
              "      <td>1.9</td>\n",
              "      <td>0.681</td>\n",
              "      <td>10.9</td>\n",
              "    </tr>\n",
              "    <tr>\n",
              "      <th>46</th>\n",
              "      <td>Algeria</td>\n",
              "      <td>2001</td>\n",
              "      <td>NaN</td>\n",
              "      <td>71.4</td>\n",
              "      <td>145.0</td>\n",
              "      <td>20</td>\n",
              "      <td>0.23</td>\n",
              "      <td>147.986071</td>\n",
              "      <td>NaN</td>\n",
              "      <td>2686</td>\n",
              "      <td>45.3</td>\n",
              "      <td>24</td>\n",
              "      <td>89.0</td>\n",
              "      <td>3.84</td>\n",
              "      <td>89.0</td>\n",
              "      <td>0.1</td>\n",
              "      <td>1732.857979</td>\n",
              "      <td>31592153</td>\n",
              "      <td>6.4</td>\n",
              "      <td>6.3</td>\n",
              "      <td>0.644</td>\n",
              "      <td>10.9</td>\n",
              "    </tr>\n",
              "    <tr>\n",
              "      <th>65</th>\n",
              "      <td>Antigua and Barbuda</td>\n",
              "      <td>2014</td>\n",
              "      <td>NaN</td>\n",
              "      <td>76.2</td>\n",
              "      <td>131.0</td>\n",
              "      <td>0</td>\n",
              "      <td>8.56</td>\n",
              "      <td>2422.999774</td>\n",
              "      <td>99.0</td>\n",
              "      <td>0</td>\n",
              "      <td>47.0</td>\n",
              "      <td>0</td>\n",
              "      <td>96.0</td>\n",
              "      <td>5.54</td>\n",
              "      <td>99.0</td>\n",
              "      <td>0.2</td>\n",
              "      <td>12888.296670</td>\n",
              "      <td>#</td>\n",
              "      <td>3.3</td>\n",
              "      <td>3.3</td>\n",
              "      <td>0.782</td>\n",
              "      <td>13.9</td>\n",
              "    </tr>\n",
              "    <tr>\n",
              "      <th>75</th>\n",
              "      <td>Antigua and Barbuda</td>\n",
              "      <td>2004</td>\n",
              "      <td>NaN</td>\n",
              "      <td>74.4</td>\n",
              "      <td>149.0</td>\n",
              "      <td>0</td>\n",
              "      <td>7.28</td>\n",
              "      <td>22.862952</td>\n",
              "      <td>97.0</td>\n",
              "      <td>0</td>\n",
              "      <td>4.8</td>\n",
              "      <td>0</td>\n",
              "      <td>97.0</td>\n",
              "      <td>4.21</td>\n",
              "      <td>97.0</td>\n",
              "      <td>0.1</td>\n",
              "      <td>1352.837400</td>\n",
              "      <td>#</td>\n",
              "      <td>3.5</td>\n",
              "      <td>3.4</td>\n",
              "      <td>0.000</td>\n",
              "      <td>0.0</td>\n",
              "    </tr>\n",
              "    <tr>\n",
              "      <th>82</th>\n",
              "      <td>Argentina</td>\n",
              "      <td>2013</td>\n",
              "      <td>NaN</td>\n",
              "      <td>76.0</td>\n",
              "      <td>119.0</td>\n",
              "      <td>8</td>\n",
              "      <td>8.28</td>\n",
              "      <td>1001.796332</td>\n",
              "      <td>94.0</td>\n",
              "      <td>0</td>\n",
              "      <td>61.6</td>\n",
              "      <td>10</td>\n",
              "      <td>99.0</td>\n",
              "      <td>4.99</td>\n",
              "      <td>94.0</td>\n",
              "      <td>0.1</td>\n",
              "      <td>12976.636420</td>\n",
              "      <td>42539925</td>\n",
              "      <td>1.0</td>\n",
              "      <td>0.9</td>\n",
              "      <td>0.823</td>\n",
              "      <td>17.3</td>\n",
              "    </tr>\n",
              "    <tr>\n",
              "      <th>93</th>\n",
              "      <td>Argentina</td>\n",
              "      <td>2002</td>\n",
              "      <td>NaN</td>\n",
              "      <td>74.1</td>\n",
              "      <td>138.0</td>\n",
              "      <td>12</td>\n",
              "      <td>7.81</td>\n",
              "      <td>470.186914</td>\n",
              "      <td>66.0</td>\n",
              "      <td>0</td>\n",
              "      <td>55.1</td>\n",
              "      <td>13</td>\n",
              "      <td>94.0</td>\n",
              "      <td>8.31</td>\n",
              "      <td>93.0</td>\n",
              "      <td>0.1</td>\n",
              "      <td>2579.193168</td>\n",
              "      <td>3788937</td>\n",
              "      <td>1.2</td>\n",
              "      <td>1.0</td>\n",
              "      <td>0.776</td>\n",
              "      <td>16.3</td>\n",
              "    </tr>\n",
              "    <tr>\n",
              "      <th>104</th>\n",
              "      <td>Armenia</td>\n",
              "      <td>2007</td>\n",
              "      <td>NaN</td>\n",
              "      <td>73.5</td>\n",
              "      <td>132.0</td>\n",
              "      <td>1</td>\n",
              "      <td>3.99</td>\n",
              "      <td>44.572200</td>\n",
              "      <td>85.0</td>\n",
              "      <td>1</td>\n",
              "      <td>49.7</td>\n",
              "      <td>1</td>\n",
              "      <td>9.0</td>\n",
              "      <td>4.31</td>\n",
              "      <td>88.0</td>\n",
              "      <td>0.1</td>\n",
              "      <td>3138.887300</td>\n",
              "      <td>293356</td>\n",
              "      <td>2.0</td>\n",
              "      <td>2.1</td>\n",
              "      <td>0.707</td>\n",
              "      <td>11.7</td>\n",
              "    </tr>\n",
              "    <tr>\n",
              "      <th>118</th>\n",
              "      <td>Australia</td>\n",
              "      <td>2009</td>\n",
              "      <td>NaN</td>\n",
              "      <td>81.7</td>\n",
              "      <td>66.0</td>\n",
              "      <td>1</td>\n",
              "      <td>10.62</td>\n",
              "      <td>7172.275229</td>\n",
              "      <td>94.0</td>\n",
              "      <td>104</td>\n",
              "      <td>63.4</td>\n",
              "      <td>1</td>\n",
              "      <td>92.0</td>\n",
              "      <td>9.50</td>\n",
              "      <td>92.0</td>\n",
              "      <td>0.1</td>\n",
              "      <td>42742.998980</td>\n",
              "      <td>216917</td>\n",
              "      <td>0.7</td>\n",
              "      <td>0.6</td>\n",
              "      <td>0.925</td>\n",
              "      <td>19.1</td>\n",
              "    </tr>\n",
              "    <tr>\n",
              "      <th>136</th>\n",
              "      <td>Austria</td>\n",
              "      <td>2007</td>\n",
              "      <td>NaN</td>\n",
              "      <td>81.0</td>\n",
              "      <td>8.0</td>\n",
              "      <td>0</td>\n",
              "      <td>12.50</td>\n",
              "      <td>7453.864400</td>\n",
              "      <td>85.0</td>\n",
              "      <td>20</td>\n",
              "      <td>53.7</td>\n",
              "      <td>0</td>\n",
              "      <td>85.0</td>\n",
              "      <td>1.40</td>\n",
              "      <td>85.0</td>\n",
              "      <td>0.1</td>\n",
              "      <td>46586.652500</td>\n",
              "      <td>8295487</td>\n",
              "      <td>1.7</td>\n",
              "      <td>1.9</td>\n",
              "      <td>0.860</td>\n",
              "      <td>15.2</td>\n",
              "    </tr>\n",
              "    <tr>\n",
              "      <th>148</th>\n",
              "      <td>Azerbaijan</td>\n",
              "      <td>2011</td>\n",
              "      <td>NaN</td>\n",
              "      <td>71.6</td>\n",
              "      <td>125.0</td>\n",
              "      <td>5</td>\n",
              "      <td>1.98</td>\n",
              "      <td>263.142699</td>\n",
              "      <td>84.0</td>\n",
              "      <td>0</td>\n",
              "      <td>48.8</td>\n",
              "      <td>6</td>\n",
              "      <td>91.0</td>\n",
              "      <td>5.10</td>\n",
              "      <td>87.0</td>\n",
              "      <td>0.1</td>\n",
              "      <td>7189.691229</td>\n",
              "      <td>917382</td>\n",
              "      <td>2.8</td>\n",
              "      <td>2.9</td>\n",
              "      <td>0.741</td>\n",
              "      <td>11.7</td>\n",
              "    </tr>\n",
              "    <tr>\n",
              "      <th>458</th>\n",
              "      <td>Cabo Verde</td>\n",
              "      <td>2005</td>\n",
              "      <td>NaN</td>\n",
              "      <td>71.8</td>\n",
              "      <td>134.0</td>\n",
              "      <td>0</td>\n",
              "      <td>4.26</td>\n",
              "      <td>3.349817</td>\n",
              "      <td>93.0</td>\n",
              "      <td>0</td>\n",
              "      <td>24.3</td>\n",
              "      <td>0</td>\n",
              "      <td>95.0</td>\n",
              "      <td>4.86</td>\n",
              "      <td>95.0</td>\n",
              "      <td>0.8</td>\n",
              "      <td>248.134590</td>\n",
              "      <td>474567</td>\n",
              "      <td>8.5</td>\n",
              "      <td>8.5</td>\n",
              "      <td>0.582</td>\n",
              "      <td>11.2</td>\n",
              "    </tr>\n",
              "    <tr>\n",
              "      <th>1129</th>\n",
              "      <td>Haiti</td>\n",
              "      <td>2008</td>\n",
              "      <td>NaN</td>\n",
              "      <td>62.1</td>\n",
              "      <td>259.0</td>\n",
              "      <td>16</td>\n",
              "      <td>5.95</td>\n",
              "      <td>63.831957</td>\n",
              "      <td>NaN</td>\n",
              "      <td>0</td>\n",
              "      <td>41.8</td>\n",
              "      <td>22</td>\n",
              "      <td>64.0</td>\n",
              "      <td>5.92</td>\n",
              "      <td>63.0</td>\n",
              "      <td>2.4</td>\n",
              "      <td>674.756415</td>\n",
              "      <td>97529</td>\n",
              "      <td>4.2</td>\n",
              "      <td>4.2</td>\n",
              "      <td>0.462</td>\n",
              "      <td>8.4</td>\n",
              "    </tr>\n",
              "    <tr>\n",
              "      <th>2003</th>\n",
              "      <td>Paraguay</td>\n",
              "      <td>2003</td>\n",
              "      <td>NaN</td>\n",
              "      <td>71.7</td>\n",
              "      <td>166.0</td>\n",
              "      <td>4</td>\n",
              "      <td>6.64</td>\n",
              "      <td>155.423308</td>\n",
              "      <td>86.0</td>\n",
              "      <td>0</td>\n",
              "      <td>41.3</td>\n",
              "      <td>4</td>\n",
              "      <td>86.0</td>\n",
              "      <td>5.99</td>\n",
              "      <td>86.0</td>\n",
              "      <td>0.1</td>\n",
              "      <td>1174.779347</td>\n",
              "      <td>56795</td>\n",
              "      <td>2.4</td>\n",
              "      <td>2.3</td>\n",
              "      <td>0.642</td>\n",
              "      <td>12.7</td>\n",
              "    </tr>\n",
              "    <tr>\n",
              "      <th>2068</th>\n",
              "      <td>Portugal</td>\n",
              "      <td>2002</td>\n",
              "      <td>NaN</td>\n",
              "      <td>77.2</td>\n",
              "      <td>17.0</td>\n",
              "      <td>1</td>\n",
              "      <td>12.00</td>\n",
              "      <td>1904.002310</td>\n",
              "      <td>82.0</td>\n",
              "      <td>8</td>\n",
              "      <td>51.7</td>\n",
              "      <td>1</td>\n",
              "      <td>96.0</td>\n",
              "      <td>9.15</td>\n",
              "      <td>98.0</td>\n",
              "      <td>0.1</td>\n",
              "      <td>12882.288970</td>\n",
              "      <td>1419631</td>\n",
              "      <td>0.8</td>\n",
              "      <td>0.6</td>\n",
              "      <td>0.788</td>\n",
              "      <td>15.9</td>\n",
              "    </tr>\n",
              "  </tbody>\n",
              "</table>\n",
              "</div>"
            ],
            "text/plain": [
              "                  Country  Year  ... Income composition of resources  Schooling\n",
              "6             Afghanistan  2009  ...                           0.434        8.9\n",
              "15            Afghanistan  2000  ...                           0.338        5.5\n",
              "27                Albania  2004  ...                           0.681       10.9\n",
              "46                Algeria  2001  ...                           0.644       10.9\n",
              "65    Antigua and Barbuda  2014  ...                           0.782       13.9\n",
              "75    Antigua and Barbuda  2004  ...                           0.000        0.0\n",
              "82              Argentina  2013  ...                           0.823       17.3\n",
              "93              Argentina  2002  ...                           0.776       16.3\n",
              "104               Armenia  2007  ...                           0.707       11.7\n",
              "118             Australia  2009  ...                           0.925       19.1\n",
              "136               Austria  2007  ...                           0.860       15.2\n",
              "148            Azerbaijan  2011  ...                           0.741       11.7\n",
              "458            Cabo Verde  2005  ...                           0.582       11.2\n",
              "1129                Haiti  2008  ...                           0.462        8.4\n",
              "2003             Paraguay  2003  ...                           0.642       12.7\n",
              "2068             Portugal  2002  ...                           0.788       15.9\n",
              "\n",
              "[16 rows x 22 columns]"
            ]
          },
          "metadata": {
            "tags": []
          },
          "execution_count": 16
        }
      ]
    },
    {
      "cell_type": "code",
      "metadata": {
        "colab": {
          "base_uri": "https://localhost:8080/",
          "height": 490
        },
        "id": "4XvUpVJzBsIV",
        "outputId": "eb480dba-3430-4247-e079-3e1d1f601b9f"
      },
      "source": [
        "df['Status']= df['Status'].ffill()\r\n",
        "df"
      ],
      "execution_count": 17,
      "outputs": [
        {
          "output_type": "execute_result",
          "data": {
            "text/html": [
              "<div>\n",
              "<style scoped>\n",
              "    .dataframe tbody tr th:only-of-type {\n",
              "        vertical-align: middle;\n",
              "    }\n",
              "\n",
              "    .dataframe tbody tr th {\n",
              "        vertical-align: top;\n",
              "    }\n",
              "\n",
              "    .dataframe thead th {\n",
              "        text-align: right;\n",
              "    }\n",
              "</style>\n",
              "<table border=\"1\" class=\"dataframe\">\n",
              "  <thead>\n",
              "    <tr style=\"text-align: right;\">\n",
              "      <th></th>\n",
              "      <th>Country</th>\n",
              "      <th>Year</th>\n",
              "      <th>Status</th>\n",
              "      <th>Life expectancy</th>\n",
              "      <th>Adult mortality</th>\n",
              "      <th>Infant deaths</th>\n",
              "      <th>Alcohol</th>\n",
              "      <th>Percentage expenditure</th>\n",
              "      <th>Hepatitis B</th>\n",
              "      <th>Measles</th>\n",
              "      <th>BMI</th>\n",
              "      <th>Under-five deaths</th>\n",
              "      <th>Polio</th>\n",
              "      <th>Total expenditure</th>\n",
              "      <th>Diphtheria</th>\n",
              "      <th>HIV/AIDS</th>\n",
              "      <th>GDP</th>\n",
              "      <th>Population</th>\n",
              "      <th>Thinness  1-19 years</th>\n",
              "      <th>Thinness 5-9 years</th>\n",
              "      <th>Income composition of resources</th>\n",
              "      <th>Schooling</th>\n",
              "    </tr>\n",
              "  </thead>\n",
              "  <tbody>\n",
              "    <tr>\n",
              "      <th>0</th>\n",
              "      <td>Afghanistan</td>\n",
              "      <td>2015</td>\n",
              "      <td>Developing</td>\n",
              "      <td>65.0</td>\n",
              "      <td>263.0</td>\n",
              "      <td>62</td>\n",
              "      <td>0.01</td>\n",
              "      <td>71.279624</td>\n",
              "      <td>65.0</td>\n",
              "      <td>1154</td>\n",
              "      <td>19.1</td>\n",
              "      <td>83</td>\n",
              "      <td>6.0</td>\n",
              "      <td>8.16</td>\n",
              "      <td>65.0</td>\n",
              "      <td>0.1</td>\n",
              "      <td>584.259210</td>\n",
              "      <td>33736494</td>\n",
              "      <td>17.2</td>\n",
              "      <td>17.3</td>\n",
              "      <td>0.479</td>\n",
              "      <td>10.1</td>\n",
              "    </tr>\n",
              "    <tr>\n",
              "      <th>1</th>\n",
              "      <td>Afghanistan</td>\n",
              "      <td>2014</td>\n",
              "      <td>Developing</td>\n",
              "      <td>59.9</td>\n",
              "      <td>271.0</td>\n",
              "      <td>64</td>\n",
              "      <td>0.01</td>\n",
              "      <td>73.523582</td>\n",
              "      <td>62.0</td>\n",
              "      <td>492</td>\n",
              "      <td>18.6</td>\n",
              "      <td>86</td>\n",
              "      <td>58.0</td>\n",
              "      <td>8.18</td>\n",
              "      <td>62.0</td>\n",
              "      <td>0.1</td>\n",
              "      <td>612.696514</td>\n",
              "      <td>327582</td>\n",
              "      <td>17.5</td>\n",
              "      <td>17.5</td>\n",
              "      <td>0.476</td>\n",
              "      <td>10.0</td>\n",
              "    </tr>\n",
              "    <tr>\n",
              "      <th>2</th>\n",
              "      <td>Afghanistan</td>\n",
              "      <td>2013</td>\n",
              "      <td>Developing</td>\n",
              "      <td>59.9</td>\n",
              "      <td>268.0</td>\n",
              "      <td>66</td>\n",
              "      <td>0.01</td>\n",
              "      <td>73.219243</td>\n",
              "      <td>64.0</td>\n",
              "      <td>430</td>\n",
              "      <td>18.1</td>\n",
              "      <td>89</td>\n",
              "      <td>62.0</td>\n",
              "      <td>8.13</td>\n",
              "      <td>64.0</td>\n",
              "      <td>0.1</td>\n",
              "      <td>631.744976</td>\n",
              "      <td>31731688</td>\n",
              "      <td>17.7</td>\n",
              "      <td>17.7</td>\n",
              "      <td>0.470</td>\n",
              "      <td>9.9</td>\n",
              "    </tr>\n",
              "    <tr>\n",
              "      <th>3</th>\n",
              "      <td>Afghanistan</td>\n",
              "      <td>2012</td>\n",
              "      <td>Developing</td>\n",
              "      <td>59.5</td>\n",
              "      <td>272.0</td>\n",
              "      <td>69</td>\n",
              "      <td>0.01</td>\n",
              "      <td>78.184215</td>\n",
              "      <td>67.0</td>\n",
              "      <td>2787</td>\n",
              "      <td>17.6</td>\n",
              "      <td>93</td>\n",
              "      <td>67.0</td>\n",
              "      <td>8.52</td>\n",
              "      <td>67.0</td>\n",
              "      <td>0.1</td>\n",
              "      <td>669.959000</td>\n",
              "      <td>3696958</td>\n",
              "      <td>17.9</td>\n",
              "      <td>18.0</td>\n",
              "      <td>0.463</td>\n",
              "      <td>9.8</td>\n",
              "    </tr>\n",
              "    <tr>\n",
              "      <th>4</th>\n",
              "      <td>Afghanistan</td>\n",
              "      <td>2011</td>\n",
              "      <td>Developing</td>\n",
              "      <td>59.2</td>\n",
              "      <td>275.0</td>\n",
              "      <td>71</td>\n",
              "      <td>0.01</td>\n",
              "      <td>7.097109</td>\n",
              "      <td>68.0</td>\n",
              "      <td>3013</td>\n",
              "      <td>17.2</td>\n",
              "      <td>97</td>\n",
              "      <td>68.0</td>\n",
              "      <td>7.87</td>\n",
              "      <td>68.0</td>\n",
              "      <td>0.1</td>\n",
              "      <td>63.537231</td>\n",
              "      <td>2978599</td>\n",
              "      <td>18.2</td>\n",
              "      <td>18.2</td>\n",
              "      <td>0.454</td>\n",
              "      <td>9.5</td>\n",
              "    </tr>\n",
              "    <tr>\n",
              "      <th>...</th>\n",
              "      <td>...</td>\n",
              "      <td>...</td>\n",
              "      <td>...</td>\n",
              "      <td>...</td>\n",
              "      <td>...</td>\n",
              "      <td>...</td>\n",
              "      <td>...</td>\n",
              "      <td>...</td>\n",
              "      <td>...</td>\n",
              "      <td>...</td>\n",
              "      <td>...</td>\n",
              "      <td>...</td>\n",
              "      <td>...</td>\n",
              "      <td>...</td>\n",
              "      <td>...</td>\n",
              "      <td>...</td>\n",
              "      <td>...</td>\n",
              "      <td>...</td>\n",
              "      <td>...</td>\n",
              "      <td>...</td>\n",
              "      <td>...</td>\n",
              "      <td>...</td>\n",
              "    </tr>\n",
              "    <tr>\n",
              "      <th>2933</th>\n",
              "      <td>Zimbabwe</td>\n",
              "      <td>2004</td>\n",
              "      <td>Developing</td>\n",
              "      <td>44.3</td>\n",
              "      <td>723.0</td>\n",
              "      <td>27</td>\n",
              "      <td>4.36</td>\n",
              "      <td>0.000000</td>\n",
              "      <td>68.0</td>\n",
              "      <td>31</td>\n",
              "      <td>27.1</td>\n",
              "      <td>42</td>\n",
              "      <td>67.0</td>\n",
              "      <td>7.13</td>\n",
              "      <td>65.0</td>\n",
              "      <td>33.6</td>\n",
              "      <td>454.366654</td>\n",
              "      <td>12777511</td>\n",
              "      <td>9.4</td>\n",
              "      <td>9.4</td>\n",
              "      <td>0.407</td>\n",
              "      <td>9.2</td>\n",
              "    </tr>\n",
              "    <tr>\n",
              "      <th>2934</th>\n",
              "      <td>Zimbabwe</td>\n",
              "      <td>2003</td>\n",
              "      <td>Developing</td>\n",
              "      <td>44.5</td>\n",
              "      <td>715.0</td>\n",
              "      <td>26</td>\n",
              "      <td>4.06</td>\n",
              "      <td>0.000000</td>\n",
              "      <td>7.0</td>\n",
              "      <td>998</td>\n",
              "      <td>26.7</td>\n",
              "      <td>41</td>\n",
              "      <td>7.0</td>\n",
              "      <td>6.52</td>\n",
              "      <td>68.0</td>\n",
              "      <td>36.7</td>\n",
              "      <td>453.351155</td>\n",
              "      <td>12633897</td>\n",
              "      <td>9.8</td>\n",
              "      <td>9.9</td>\n",
              "      <td>0.418</td>\n",
              "      <td>9.5</td>\n",
              "    </tr>\n",
              "    <tr>\n",
              "      <th>2935</th>\n",
              "      <td>Zimbabwe</td>\n",
              "      <td>2002</td>\n",
              "      <td>Developing</td>\n",
              "      <td>44.8</td>\n",
              "      <td>73.0</td>\n",
              "      <td>25</td>\n",
              "      <td>4.43</td>\n",
              "      <td>0.000000</td>\n",
              "      <td>73.0</td>\n",
              "      <td>304</td>\n",
              "      <td>26.3</td>\n",
              "      <td>40</td>\n",
              "      <td>73.0</td>\n",
              "      <td>6.53</td>\n",
              "      <td>71.0</td>\n",
              "      <td>39.8</td>\n",
              "      <td>57.348340</td>\n",
              "      <td>125525</td>\n",
              "      <td>1.2</td>\n",
              "      <td>1.3</td>\n",
              "      <td>0.427</td>\n",
              "      <td>10.0</td>\n",
              "    </tr>\n",
              "    <tr>\n",
              "      <th>2936</th>\n",
              "      <td>Zimbabwe</td>\n",
              "      <td>2001</td>\n",
              "      <td>Developing</td>\n",
              "      <td>45.3</td>\n",
              "      <td>686.0</td>\n",
              "      <td>25</td>\n",
              "      <td>1.72</td>\n",
              "      <td>0.000000</td>\n",
              "      <td>76.0</td>\n",
              "      <td>529</td>\n",
              "      <td>25.9</td>\n",
              "      <td>39</td>\n",
              "      <td>76.0</td>\n",
              "      <td>6.16</td>\n",
              "      <td>75.0</td>\n",
              "      <td>42.1</td>\n",
              "      <td>548.587312</td>\n",
              "      <td>12366165</td>\n",
              "      <td>1.6</td>\n",
              "      <td>1.7</td>\n",
              "      <td>0.427</td>\n",
              "      <td>9.8</td>\n",
              "    </tr>\n",
              "    <tr>\n",
              "      <th>2937</th>\n",
              "      <td>Zimbabwe</td>\n",
              "      <td>2000</td>\n",
              "      <td>Developing</td>\n",
              "      <td>46.0</td>\n",
              "      <td>665.0</td>\n",
              "      <td>24</td>\n",
              "      <td>1.68</td>\n",
              "      <td>0.000000</td>\n",
              "      <td>79.0</td>\n",
              "      <td>1483</td>\n",
              "      <td>25.5</td>\n",
              "      <td>39</td>\n",
              "      <td>78.0</td>\n",
              "      <td>7.10</td>\n",
              "      <td>78.0</td>\n",
              "      <td>43.5</td>\n",
              "      <td>547.358879</td>\n",
              "      <td>12222251</td>\n",
              "      <td>11.0</td>\n",
              "      <td>11.2</td>\n",
              "      <td>0.434</td>\n",
              "      <td>9.8</td>\n",
              "    </tr>\n",
              "  </tbody>\n",
              "</table>\n",
              "<p>2938 rows × 22 columns</p>\n",
              "</div>"
            ],
            "text/plain": [
              "          Country  Year  ... Income composition of resources  Schooling\n",
              "0     Afghanistan  2015  ...                           0.479       10.1\n",
              "1     Afghanistan  2014  ...                           0.476       10.0\n",
              "2     Afghanistan  2013  ...                           0.470        9.9\n",
              "3     Afghanistan  2012  ...                           0.463        9.8\n",
              "4     Afghanistan  2011  ...                           0.454        9.5\n",
              "...           ...   ...  ...                             ...        ...\n",
              "2933     Zimbabwe  2004  ...                           0.407        9.2\n",
              "2934     Zimbabwe  2003  ...                           0.418        9.5\n",
              "2935     Zimbabwe  2002  ...                           0.427       10.0\n",
              "2936     Zimbabwe  2001  ...                           0.427        9.8\n",
              "2937     Zimbabwe  2000  ...                           0.434        9.8\n",
              "\n",
              "[2938 rows x 22 columns]"
            ]
          },
          "metadata": {
            "tags": []
          },
          "execution_count": 17
        }
      ]
    },
    {
      "cell_type": "markdown",
      "metadata": {
        "collapsed": true,
        "id": "C3QNIaaCxhy_"
      },
      "source": [
        "<table align=\"left\">\n",
        "    <tr>\n",
        "        <td width=\"6%\">\n",
        "            <img src=\"question_icon.png\">\n",
        "        </td>\n",
        "        <td>\n",
        "            <div align=\"left\", style=\"font-size:120%\">\n",
        "                <font color=\"#21618C\">\n",
        "                    <b>8. Define a function to find the extreme values in alcohol consumption\n",
        "</b>\n",
        "                </font>\n",
        "            </div>\n",
        "        </td>\n",
        "    </tr>\n",
        "</table>"
      ]
    },
    {
      "cell_type": "code",
      "metadata": {
        "id": "vPtsRBTjxhy_",
        "colab": {
          "base_uri": "https://localhost:8080/",
          "height": 350
        },
        "outputId": "cc5ad17c-b21f-4299-ec8a-8922cfc2521d"
      },
      "source": [
        "# type your code here\r\n",
        "sns.boxplot(df['Alcohol'])"
      ],
      "execution_count": 18,
      "outputs": [
        {
          "output_type": "stream",
          "text": [
            "/usr/local/lib/python3.6/dist-packages/seaborn/_decorators.py:43: FutureWarning: Pass the following variable as a keyword arg: x. From version 0.12, the only valid positional argument will be `data`, and passing other arguments without an explicit keyword will result in an error or misinterpretation.\n",
            "  FutureWarning\n"
          ],
          "name": "stderr"
        },
        {
          "output_type": "execute_result",
          "data": {
            "text/plain": [
              "<matplotlib.axes._subplots.AxesSubplot at 0x7f7a57623358>"
            ]
          },
          "metadata": {
            "tags": []
          },
          "execution_count": 18
        },
        {
          "output_type": "display_data",
          "data": {
            "image/png": "[encoded data removed]",
            "text/plain": [
              "<Figure size 432x288 with 1 Axes>"
            ]
          },
          "metadata": {
            "tags": []
          }
        }
      ]
    },
    {
      "cell_type": "code",
      "metadata": {
        "id": "Y1MUz-9xCA9M"
      },
      "source": [
        "def find_func():\r\n",
        "  upper= df['Alcohol'].describe()['75%'] + (df['Alcohol'].describe()['75%'] - df['Alcohol'].describe()['25%'])*1.5\r\n",
        "  return df.loc[(df['Alcohol'] <= upper) & (df['Alcohol'] > (df['Alcohol'].describe()['75%']))]['Alcohol'].sort_values()"
      ],
      "execution_count": 19,
      "outputs": []
    },
    {
      "cell_type": "code",
      "metadata": {
        "colab": {
          "base_uri": "https://localhost:8080/"
        },
        "id": "furnaL48CP-S",
        "outputId": "ebb8b5c4-2d9f-4043-d508-1cf2bd137ddb"
      },
      "source": [
        "find_func()"
      ],
      "execution_count": 20,
      "outputs": [
        {
          "output_type": "execute_result",
          "data": {
            "text/plain": [
              "981      7.71\n",
              "956      7.72\n",
              "1119     7.73\n",
              "2053     7.74\n",
              "89       7.75\n",
              "        ...  \n",
              "227     16.35\n",
              "875     16.58\n",
              "873     16.99\n",
              "228     17.31\n",
              "874     17.87\n",
              "Name: Alcohol, Length: 686, dtype: float64"
            ]
          },
          "metadata": {
            "tags": []
          },
          "execution_count": 20
        }
      ]
    },
    {
      "cell_type": "markdown",
      "metadata": {
        "collapsed": true,
        "id": "rZ2ToHIGxhy_"
      },
      "source": [
        "<table align=\"left\">\n",
        "    <tr>\n",
        "        <td width=\"6%\">\n",
        "            <img src=\"question_icon.png\">\n",
        "        </td>\n",
        "        <td>\n",
        "            <div align=\"left\", style=\"font-size:120%\">\n",
        "                <font color=\"#21618C\">\n",
        "                    <b>9. Create a column 'Life_expectancy_level' such that it will contain three levels (High, Medium, Low) based on the life expectancy </b>\n",
        "                </font>\n",
        "            </div>\n",
        "        </td>\n",
        "    </tr>\n",
        "</table>"
      ]
    },
    {
      "cell_type": "code",
      "metadata": {
        "id": "ssQ1c7mrxhy_"
      },
      "source": [
        "# type your code here\r\n",
        "\r\n",
        "df['Life_expectancy_level'] = pd.cut(df['Life expectancy'], bins=[0,36, 54, 72], labels=['low', 'medium', 'high'])"
      ],
      "execution_count": 24,
      "outputs": []
    },
    {
      "cell_type": "code",
      "metadata": {
        "colab": {
          "base_uri": "https://localhost:8080/",
          "height": 490
        },
        "id": "PhGNhU0pCcJ2",
        "outputId": "e1a6253e-6595-42e0-9df2-b619be305be7"
      },
      "source": [
        "df"
      ],
      "execution_count": 25,
      "outputs": [
        {
          "output_type": "execute_result",
          "data": {
            "text/html": [
              "<div>\n",
              "<style scoped>\n",
              "    .dataframe tbody tr th:only-of-type {\n",
              "        vertical-align: middle;\n",
              "    }\n",
              "\n",
              "    .dataframe tbody tr th {\n",
              "        vertical-align: top;\n",
              "    }\n",
              "\n",
              "    .dataframe thead th {\n",
              "        text-align: right;\n",
              "    }\n",
              "</style>\n",
              "<table border=\"1\" class=\"dataframe\">\n",
              "  <thead>\n",
              "    <tr style=\"text-align: right;\">\n",
              "      <th></th>\n",
              "      <th>Country</th>\n",
              "      <th>Year</th>\n",
              "      <th>Status</th>\n",
              "      <th>Life expectancy</th>\n",
              "      <th>Adult mortality</th>\n",
              "      <th>Infant deaths</th>\n",
              "      <th>Alcohol</th>\n",
              "      <th>Percentage expenditure</th>\n",
              "      <th>Hepatitis B</th>\n",
              "      <th>Measles</th>\n",
              "      <th>BMI</th>\n",
              "      <th>Under-five deaths</th>\n",
              "      <th>Polio</th>\n",
              "      <th>Total expenditure</th>\n",
              "      <th>Diphtheria</th>\n",
              "      <th>HIV/AIDS</th>\n",
              "      <th>GDP</th>\n",
              "      <th>Population</th>\n",
              "      <th>Thinness  1-19 years</th>\n",
              "      <th>Thinness 5-9 years</th>\n",
              "      <th>Income composition of resources</th>\n",
              "      <th>Schooling</th>\n",
              "      <th>Life_expectancy_level</th>\n",
              "    </tr>\n",
              "  </thead>\n",
              "  <tbody>\n",
              "    <tr>\n",
              "      <th>0</th>\n",
              "      <td>Afghanistan</td>\n",
              "      <td>2015</td>\n",
              "      <td>Developing</td>\n",
              "      <td>65.0</td>\n",
              "      <td>263.0</td>\n",
              "      <td>62</td>\n",
              "      <td>0.01</td>\n",
              "      <td>71.279624</td>\n",
              "      <td>65.0</td>\n",
              "      <td>1154</td>\n",
              "      <td>19.1</td>\n",
              "      <td>83</td>\n",
              "      <td>6.0</td>\n",
              "      <td>8.16</td>\n",
              "      <td>65.0</td>\n",
              "      <td>0.1</td>\n",
              "      <td>584.259210</td>\n",
              "      <td>33736494</td>\n",
              "      <td>17.2</td>\n",
              "      <td>17.3</td>\n",
              "      <td>0.479</td>\n",
              "      <td>10.1</td>\n",
              "      <td>high</td>\n",
              "    </tr>\n",
              "    <tr>\n",
              "      <th>1</th>\n",
              "      <td>Afghanistan</td>\n",
              "      <td>2014</td>\n",
              "      <td>Developing</td>\n",
              "      <td>59.9</td>\n",
              "      <td>271.0</td>\n",
              "      <td>64</td>\n",
              "      <td>0.01</td>\n",
              "      <td>73.523582</td>\n",
              "      <td>62.0</td>\n",
              "      <td>492</td>\n",
              "      <td>18.6</td>\n",
              "      <td>86</td>\n",
              "      <td>58.0</td>\n",
              "      <td>8.18</td>\n",
              "      <td>62.0</td>\n",
              "      <td>0.1</td>\n",
              "      <td>612.696514</td>\n",
              "      <td>327582</td>\n",
              "      <td>17.5</td>\n",
              "      <td>17.5</td>\n",
              "      <td>0.476</td>\n",
              "      <td>10.0</td>\n",
              "      <td>high</td>\n",
              "    </tr>\n",
              "    <tr>\n",
              "      <th>2</th>\n",
              "      <td>Afghanistan</td>\n",
              "      <td>2013</td>\n",
              "      <td>Developing</td>\n",
              "      <td>59.9</td>\n",
              "      <td>268.0</td>\n",
              "      <td>66</td>\n",
              "      <td>0.01</td>\n",
              "      <td>73.219243</td>\n",
              "      <td>64.0</td>\n",
              "      <td>430</td>\n",
              "      <td>18.1</td>\n",
              "      <td>89</td>\n",
              "      <td>62.0</td>\n",
              "      <td>8.13</td>\n",
              "      <td>64.0</td>\n",
              "      <td>0.1</td>\n",
              "      <td>631.744976</td>\n",
              "      <td>31731688</td>\n",
              "      <td>17.7</td>\n",
              "      <td>17.7</td>\n",
              "      <td>0.470</td>\n",
              "      <td>9.9</td>\n",
              "      <td>high</td>\n",
              "    </tr>\n",
              "    <tr>\n",
              "      <th>3</th>\n",
              "      <td>Afghanistan</td>\n",
              "      <td>2012</td>\n",
              "      <td>Developing</td>\n",
              "      <td>59.5</td>\n",
              "      <td>272.0</td>\n",
              "      <td>69</td>\n",
              "      <td>0.01</td>\n",
              "      <td>78.184215</td>\n",
              "      <td>67.0</td>\n",
              "      <td>2787</td>\n",
              "      <td>17.6</td>\n",
              "      <td>93</td>\n",
              "      <td>67.0</td>\n",
              "      <td>8.52</td>\n",
              "      <td>67.0</td>\n",
              "      <td>0.1</td>\n",
              "      <td>669.959000</td>\n",
              "      <td>3696958</td>\n",
              "      <td>17.9</td>\n",
              "      <td>18.0</td>\n",
              "      <td>0.463</td>\n",
              "      <td>9.8</td>\n",
              "      <td>high</td>\n",
              "    </tr>\n",
              "    <tr>\n",
              "      <th>4</th>\n",
              "      <td>Afghanistan</td>\n",
              "      <td>2011</td>\n",
              "      <td>Developing</td>\n",
              "      <td>59.2</td>\n",
              "      <td>275.0</td>\n",
              "      <td>71</td>\n",
              "      <td>0.01</td>\n",
              "      <td>7.097109</td>\n",
              "      <td>68.0</td>\n",
              "      <td>3013</td>\n",
              "      <td>17.2</td>\n",
              "      <td>97</td>\n",
              "      <td>68.0</td>\n",
              "      <td>7.87</td>\n",
              "      <td>68.0</td>\n",
              "      <td>0.1</td>\n",
              "      <td>63.537231</td>\n",
              "      <td>2978599</td>\n",
              "      <td>18.2</td>\n",
              "      <td>18.2</td>\n",
              "      <td>0.454</td>\n",
              "      <td>9.5</td>\n",
              "      <td>high</td>\n",
              "    </tr>\n",
              "    <tr>\n",
              "      <th>...</th>\n",
              "      <td>...</td>\n",
              "      <td>...</td>\n",
              "      <td>...</td>\n",
              "      <td>...</td>\n",
              "      <td>...</td>\n",
              "      <td>...</td>\n",
              "      <td>...</td>\n",
              "      <td>...</td>\n",
              "      <td>...</td>\n",
              "      <td>...</td>\n",
              "      <td>...</td>\n",
              "      <td>...</td>\n",
              "      <td>...</td>\n",
              "      <td>...</td>\n",
              "      <td>...</td>\n",
              "      <td>...</td>\n",
              "      <td>...</td>\n",
              "      <td>...</td>\n",
              "      <td>...</td>\n",
              "      <td>...</td>\n",
              "      <td>...</td>\n",
              "      <td>...</td>\n",
              "      <td>...</td>\n",
              "    </tr>\n",
              "    <tr>\n",
              "      <th>2933</th>\n",
              "      <td>Zimbabwe</td>\n",
              "      <td>2004</td>\n",
              "      <td>Developing</td>\n",
              "      <td>44.3</td>\n",
              "      <td>723.0</td>\n",
              "      <td>27</td>\n",
              "      <td>4.36</td>\n",
              "      <td>0.000000</td>\n",
              "      <td>68.0</td>\n",
              "      <td>31</td>\n",
              "      <td>27.1</td>\n",
              "      <td>42</td>\n",
              "      <td>67.0</td>\n",
              "      <td>7.13</td>\n",
              "      <td>65.0</td>\n",
              "      <td>33.6</td>\n",
              "      <td>454.366654</td>\n",
              "      <td>12777511</td>\n",
              "      <td>9.4</td>\n",
              "      <td>9.4</td>\n",
              "      <td>0.407</td>\n",
              "      <td>9.2</td>\n",
              "      <td>medium</td>\n",
              "    </tr>\n",
              "    <tr>\n",
              "      <th>2934</th>\n",
              "      <td>Zimbabwe</td>\n",
              "      <td>2003</td>\n",
              "      <td>Developing</td>\n",
              "      <td>44.5</td>\n",
              "      <td>715.0</td>\n",
              "      <td>26</td>\n",
              "      <td>4.06</td>\n",
              "      <td>0.000000</td>\n",
              "      <td>7.0</td>\n",
              "      <td>998</td>\n",
              "      <td>26.7</td>\n",
              "      <td>41</td>\n",
              "      <td>7.0</td>\n",
              "      <td>6.52</td>\n",
              "      <td>68.0</td>\n",
              "      <td>36.7</td>\n",
              "      <td>453.351155</td>\n",
              "      <td>12633897</td>\n",
              "      <td>9.8</td>\n",
              "      <td>9.9</td>\n",
              "      <td>0.418</td>\n",
              "      <td>9.5</td>\n",
              "      <td>medium</td>\n",
              "    </tr>\n",
              "    <tr>\n",
              "      <th>2935</th>\n",
              "      <td>Zimbabwe</td>\n",
              "      <td>2002</td>\n",
              "      <td>Developing</td>\n",
              "      <td>44.8</td>\n",
              "      <td>73.0</td>\n",
              "      <td>25</td>\n",
              "      <td>4.43</td>\n",
              "      <td>0.000000</td>\n",
              "      <td>73.0</td>\n",
              "      <td>304</td>\n",
              "      <td>26.3</td>\n",
              "      <td>40</td>\n",
              "      <td>73.0</td>\n",
              "      <td>6.53</td>\n",
              "      <td>71.0</td>\n",
              "      <td>39.8</td>\n",
              "      <td>57.348340</td>\n",
              "      <td>125525</td>\n",
              "      <td>1.2</td>\n",
              "      <td>1.3</td>\n",
              "      <td>0.427</td>\n",
              "      <td>10.0</td>\n",
              "      <td>medium</td>\n",
              "    </tr>\n",
              "    <tr>\n",
              "      <th>2936</th>\n",
              "      <td>Zimbabwe</td>\n",
              "      <td>2001</td>\n",
              "      <td>Developing</td>\n",
              "      <td>45.3</td>\n",
              "      <td>686.0</td>\n",
              "      <td>25</td>\n",
              "      <td>1.72</td>\n",
              "      <td>0.000000</td>\n",
              "      <td>76.0</td>\n",
              "      <td>529</td>\n",
              "      <td>25.9</td>\n",
              "      <td>39</td>\n",
              "      <td>76.0</td>\n",
              "      <td>6.16</td>\n",
              "      <td>75.0</td>\n",
              "      <td>42.1</td>\n",
              "      <td>548.587312</td>\n",
              "      <td>12366165</td>\n",
              "      <td>1.6</td>\n",
              "      <td>1.7</td>\n",
              "      <td>0.427</td>\n",
              "      <td>9.8</td>\n",
              "      <td>medium</td>\n",
              "    </tr>\n",
              "    <tr>\n",
              "      <th>2937</th>\n",
              "      <td>Zimbabwe</td>\n",
              "      <td>2000</td>\n",
              "      <td>Developing</td>\n",
              "      <td>46.0</td>\n",
              "      <td>665.0</td>\n",
              "      <td>24</td>\n",
              "      <td>1.68</td>\n",
              "      <td>0.000000</td>\n",
              "      <td>79.0</td>\n",
              "      <td>1483</td>\n",
              "      <td>25.5</td>\n",
              "      <td>39</td>\n",
              "      <td>78.0</td>\n",
              "      <td>7.10</td>\n",
              "      <td>78.0</td>\n",
              "      <td>43.5</td>\n",
              "      <td>547.358879</td>\n",
              "      <td>12222251</td>\n",
              "      <td>11.0</td>\n",
              "      <td>11.2</td>\n",
              "      <td>0.434</td>\n",
              "      <td>9.8</td>\n",
              "      <td>medium</td>\n",
              "    </tr>\n",
              "  </tbody>\n",
              "</table>\n",
              "<p>2938 rows × 23 columns</p>\n",
              "</div>"
            ],
            "text/plain": [
              "          Country  Year  ... Schooling  Life_expectancy_level\n",
              "0     Afghanistan  2015  ...      10.1                   high\n",
              "1     Afghanistan  2014  ...      10.0                   high\n",
              "2     Afghanistan  2013  ...       9.9                   high\n",
              "3     Afghanistan  2012  ...       9.8                   high\n",
              "4     Afghanistan  2011  ...       9.5                   high\n",
              "...           ...   ...  ...       ...                    ...\n",
              "2933     Zimbabwe  2004  ...       9.2                 medium\n",
              "2934     Zimbabwe  2003  ...       9.5                 medium\n",
              "2935     Zimbabwe  2002  ...      10.0                 medium\n",
              "2936     Zimbabwe  2001  ...       9.8                 medium\n",
              "2937     Zimbabwe  2000  ...       9.8                 medium\n",
              "\n",
              "[2938 rows x 23 columns]"
            ]
          },
          "metadata": {
            "tags": []
          },
          "execution_count": 25
        }
      ]
    },
    {
      "cell_type": "markdown",
      "metadata": {
        "collapsed": true,
        "id": "DSTYamMdxhy_"
      },
      "source": [
        "<table align=\"left\">\n",
        "    <tr>\n",
        "        <td width=\"6%\">\n",
        "            <img src=\"question_icon.png\">\n",
        "        </td>\n",
        "        <td>\n",
        "            <div align=\"left\", style=\"font-size:120%\">\n",
        "                <font color=\"#21618C\">\n",
        "                    <b>10. Check how life expectancy has changed over the years in China</b>\n",
        "                </font>\n",
        "            </div>\n",
        "        </td>\n",
        "    </tr>\n",
        "</table>"
      ]
    },
    {
      "cell_type": "code",
      "metadata": {
        "id": "gp33OnxuxhzA"
      },
      "source": [
        "# type your code here\r\n",
        "\r\n",
        "x= df.loc[df['Country']== 'China']['Year']\r\n",
        "y= df.loc[df['Country']== 'China']['Life expectancy']"
      ],
      "execution_count": 26,
      "outputs": []
    },
    {
      "cell_type": "code",
      "metadata": {
        "colab": {
          "base_uri": "https://localhost:8080/",
          "height": 350
        },
        "id": "auKjQKkTC6-a",
        "outputId": "e04a2595-f556-4620-df9d-ff17c80e072f"
      },
      "source": [
        "sns.scatterplot(x,y)"
      ],
      "execution_count": 27,
      "outputs": [
        {
          "output_type": "stream",
          "text": [
            "/usr/local/lib/python3.6/dist-packages/seaborn/_decorators.py:43: FutureWarning: Pass the following variables as keyword args: x, y. From version 0.12, the only valid positional argument will be `data`, and passing other arguments without an explicit keyword will result in an error or misinterpretation.\n",
            "  FutureWarning\n"
          ],
          "name": "stderr"
        },
        {
          "output_type": "execute_result",
          "data": {
            "text/plain": [
              "<matplotlib.axes._subplots.AxesSubplot at 0x7f7a57bc7128>"
            ]
          },
          "metadata": {
            "tags": []
          },
          "execution_count": 27
        },
        {
          "output_type": "display_data",
          "data": {
            "image/png": "[encoded data removed]",
            "text/plain": [
              "<Figure size 432x288 with 1 Axes>"
            ]
          },
          "metadata": {
            "tags": []
          }
        }
      ]
    }
  ]
}