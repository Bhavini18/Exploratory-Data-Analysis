{
  "nbformat": 4,
  "nbformat_minor": 0,
  "metadata": {
    "colab": {
      "name": "EDA-Inclass-Questions-Day1New.ipynb",
      "provenance": [],
      "collapsed_sections": []
    },
    "hide_input": false,
    "kernelspec": {
      "display_name": "Python 3",
      "language": "python",
      "name": "python3"
    },
    "language_info": {
      "codemirror_mode": {
        "name": "ipython",
        "version": 3
      },
      "file_extension": ".py",
      "mimetype": "text/x-python",
      "name": "python",
      "nbconvert_exporter": "python",
      "pygments_lexer": "ipython3",
      "version": "3.7.6"
    },
    "toc": {
      "base_numbering": 1,
      "nav_menu": {},
      "number_sections": true,
      "sideBar": true,
      "skip_h1_title": false,
      "title_cell": "Table of Contents",
      "title_sidebar": "Contents",
      "toc_cell": false,
      "toc_position": {},
      "toc_section_display": true,
      "toc_window_display": false
    },
    "varInspector": {
      "cols": {
        "lenName": 16,
        "lenType": 16,
        "lenVar": 40
      },
      "kernels_config": {
        "python": {
          "delete_cmd_postfix": "",
          "delete_cmd_prefix": "del ",
          "library": "var_list.py",
          "varRefreshCmd": "print(var_dic_list())"
        },
        "r": {
          "delete_cmd_postfix": ") ",
          "delete_cmd_prefix": "rm(",
          "library": "var_list.r",
          "varRefreshCmd": "cat(var_dic_list()) "
        }
      },
      "types_to_exclude": [
        "module",
        "function",
        "builtin_function_or_method",
        "instance",
        "_Feature"
      ],
      "window_display": false
    }
  },
  "cells": [
    {
      "cell_type": "markdown",
      "metadata": {
        "id": "XGH-_sze1bQV"
      },
      "source": [
        "<span style=\"font-family: Arial; font-weight:bold;font-size:1.9em;color:#ae09ea;\">  Case Study 1"
      ]
    },
    {
      "cell_type": "markdown",
      "metadata": {
        "id": "Bt89cbem1bQY"
      },
      "source": [
        "<span style=\"font-family: Arial; font-weight:bold;font-size:1.5em;color:#ae09ea;\">  About the Data set <span style=\"font-family: Arial; font-weight:bold;font-size:0.8em;color:red;\"> (500 Person Body Information)\n",
        "\n"
      ]
    },
    {
      "cell_type": "markdown",
      "metadata": {
        "id": "RMvlyp-O1bQZ"
      },
      "source": [
        "    GenderGender : Male / Female\n",
        "    HeightHeight : Number (cm)\n",
        "    WeightWeight : Number (Kg)\n",
        "    IndexIndex : 0 - Extremely Weak 1 - Weak 2 - Normal 3 - Overweight 4 - Obesity 5 - Extreme Obesity"
      ]
    },
    {
      "cell_type": "markdown",
      "metadata": {
        "id": "IPEHwRqt1bQa"
      },
      "source": [
        "<span style=\"font-family: Arial; font-weight:bold;font-size:1.5em;color:#ae09ea;\"> 1.1 Load the libraries:"
      ]
    },
    {
      "cell_type": "code",
      "metadata": {
        "id": "VvpA0HW21bQb"
      },
      "source": [
        "import pandas as pd\r\n",
        "import numpy as np\r\n",
        "import matplotlib.pyplot as plt\r\n",
        "import seaborn as sns"
      ],
      "execution_count": 1,
      "outputs": []
    },
    {
      "cell_type": "markdown",
      "metadata": {
        "id": "Tf2QYogr1bQf"
      },
      "source": [
        "<span style=\"font-family: Arial; font-weight:bold;font-size:1.5em;color:#ae09ea;\"> 1.2. Import the dataset(Titanic train.csv):"
      ]
    },
    {
      "cell_type": "code",
      "metadata": {
        "id": "1VfbmsQH1bQg"
      },
      "source": [
        "df = pd.read_csv('500_Person_Gender_Height_Weight_Index.csv')"
      ],
      "execution_count": 4,
      "outputs": []
    },
    {
      "cell_type": "code",
      "metadata": {
        "colab": {
          "resources": {
            "http://localhost:8080/nbextensions/google.colab/files.js": {
              "data": "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",
              "ok": true,
              "headers": [
                [
                  "content-type",
                  "application/javascript"
                ]
              ],
              "status": 200,
              "status_text": ""
            }
          },
          "base_uri": "https://localhost:8080/",
          "height": 72
        },
        "id": "GXPV5Bcr_PMH",
        "outputId": "afeebd17-cf32-41b1-bc43-547025b4570e"
      },
      "source": [
        "from google.colab import files\r\n",
        "uploaded = files.upload()"
      ],
      "execution_count": 3,
      "outputs": [
        {
          "output_type": "display_data",
          "data": {
            "text/html": [
              "\n",
              "     <input type=\"file\" id=\"files-89eef589-aad6-43b3-91ef-96f81f3d99f2\" name=\"files[]\" multiple disabled\n",
              "        style=\"border:none\" />\n",
              "     <output id=\"result-89eef589-aad6-43b3-91ef-96f81f3d99f2\">\n",
              "      Upload widget is only available when the cell has been executed in the\n",
              "      current browser session. Please rerun this cell to enable.\n",
              "      </output>\n",
              "      <script src=\"/nbextensions/google.colab/files.js\"></script> "
            ],
            "text/plain": [
              "<IPython.core.display.HTML object>"
            ]
          },
          "metadata": {
            "tags": []
          }
        },
        {
          "output_type": "stream",
          "text": [
            "Saving 500_Person_Gender_Height_Weight_Index.csv to 500_Person_Gender_Height_Weight_Index.csv\n"
          ],
          "name": "stdout"
        }
      ]
    },
    {
      "cell_type": "markdown",
      "metadata": {
        "id": "gKyE2fUk1bQi"
      },
      "source": [
        "1.2a)  Read the data from multiple sources (csv, text, url etc.,)?"
      ]
    },
    {
      "cell_type": "markdown",
      "metadata": {
        "id": "KqFcD80Y1bQj"
      },
      "source": [
        "1. CSV = pd.read_csv('train.csv')\n",
        "2. XLSX files = pd.read_excel('train.xlsx', sheetname = 'Invoice')\n",
        "\n",
        "3. ZIP files =  * import zipfile\n",
        "            * archive = zipfile.ZipFile('T.zip', 'r')\n",
        "            * df = archive.read('train.csv')\n",
        "               \n",
        "4. Text (txt) = * text_file = open(\"text.txt\", \"r\")\n",
        "            *lines = text_file.read()\n",
        "               \n",
        "5. JSON file = pd.read_json('train.json')\n",
        "\n",
        "6. XML file =   *import xml.etree.ElementTree as ET\n",
        "             *tree = ET.parse('train.xml')\n",
        "             *root = tree.getroot()\n",
        "             *print root.tag\n",
        "               \n",
        "7. HDF =  pd.read_hdf('train.h5')\n"
      ]
    },
    {
      "cell_type": "markdown",
      "metadata": {
        "id": "5WX9LAl81bQk"
      },
      "source": [
        "## EDA Descriptive Statistics:"
      ]
    },
    {
      "cell_type": "markdown",
      "metadata": {
        "id": "2ECagHZ01bQl"
      },
      "source": [
        "<span style=\"font-family: Arial; font-weight:bold;font-size:1.5em;color:#ae09ea;\">  1.3  Measures of Central Tendency\n",
        "\n",
        "Measures of Central Tendency define significant, representative and adequate values for a set of data, depending on what you want to analyze. They are the \n",
        "\n",
        "1. mean\n",
        "2. median\n",
        "3. quantiles and mode."
      ]
    },
    {
      "cell_type": "markdown",
      "metadata": {
        "id": "MrgxIZiM1bQm"
      },
      "source": [
        "<span style=\"font-family: Arial; font-weight:bold;font-size:1.2em;color:#ae09ea;\">  1.3a) Check the  mean ,Mode, Median and Quantile for data?"
      ]
    },
    {
      "cell_type": "code",
      "metadata": {
        "colab": {
          "base_uri": "https://localhost:8080/",
          "height": 204
        },
        "id": "l5r28WjvD5ko",
        "outputId": "a713d540-1d15-485b-840f-70667f8c3cad"
      },
      "source": [
        "df.head()"
      ],
      "execution_count": null,
      "outputs": [
        {
          "output_type": "execute_result",
          "data": {
            "text/html": [
              "<div>\n",
              "<style scoped>\n",
              "    .dataframe tbody tr th:only-of-type {\n",
              "        vertical-align: middle;\n",
              "    }\n",
              "\n",
              "    .dataframe tbody tr th {\n",
              "        vertical-align: top;\n",
              "    }\n",
              "\n",
              "    .dataframe thead th {\n",
              "        text-align: right;\n",
              "    }\n",
              "</style>\n",
              "<table border=\"1\" class=\"dataframe\">\n",
              "  <thead>\n",
              "    <tr style=\"text-align: right;\">\n",
              "      <th></th>\n",
              "      <th>Gender</th>\n",
              "      <th>Height</th>\n",
              "      <th>Weight</th>\n",
              "      <th>Index</th>\n",
              "    </tr>\n",
              "  </thead>\n",
              "  <tbody>\n",
              "    <tr>\n",
              "      <th>0</th>\n",
              "      <td>Male</td>\n",
              "      <td>174</td>\n",
              "      <td>96</td>\n",
              "      <td>4</td>\n",
              "    </tr>\n",
              "    <tr>\n",
              "      <th>1</th>\n",
              "      <td>Male</td>\n",
              "      <td>189</td>\n",
              "      <td>87</td>\n",
              "      <td>2</td>\n",
              "    </tr>\n",
              "    <tr>\n",
              "      <th>2</th>\n",
              "      <td>Female</td>\n",
              "      <td>185</td>\n",
              "      <td>110</td>\n",
              "      <td>4</td>\n",
              "    </tr>\n",
              "    <tr>\n",
              "      <th>3</th>\n",
              "      <td>Female</td>\n",
              "      <td>195</td>\n",
              "      <td>104</td>\n",
              "      <td>3</td>\n",
              "    </tr>\n",
              "    <tr>\n",
              "      <th>4</th>\n",
              "      <td>Male</td>\n",
              "      <td>149</td>\n",
              "      <td>61</td>\n",
              "      <td>3</td>\n",
              "    </tr>\n",
              "  </tbody>\n",
              "</table>\n",
              "</div>"
            ],
            "text/plain": [
              "   Gender  Height  Weight  Index\n",
              "0    Male     174      96      4\n",
              "1    Male     189      87      2\n",
              "2  Female     185     110      4\n",
              "3  Female     195     104      3\n",
              "4    Male     149      61      3"
            ]
          },
          "metadata": {
            "tags": []
          },
          "execution_count": 37
        }
      ]
    },
    {
      "cell_type": "markdown",
      "metadata": {
        "id": "ReoPjgz61bQn"
      },
      "source": [
        "#### Mean"
      ]
    },
    {
      "cell_type": "code",
      "metadata": {
        "id": "CZ3qX3ua1bQo",
        "colab": {
          "base_uri": "https://localhost:8080/"
        },
        "outputId": "311008cb-42d3-4ea6-91fd-071f5c61e393"
      },
      "source": [
        "mean_tb=df['Height'].mean()\r\n",
        "mean_tb"
      ],
      "execution_count": 6,
      "outputs": [
        {
          "output_type": "execute_result",
          "data": {
            "text/plain": [
              "169.944"
            ]
          },
          "metadata": {
            "tags": []
          },
          "execution_count": 6
        }
      ]
    },
    {
      "cell_type": "markdown",
      "metadata": {
        "id": "LcGCvsAY1bQr"
      },
      "source": [
        "#### Mode"
      ]
    },
    {
      "cell_type": "code",
      "metadata": {
        "id": "EdWa-07p1bQs",
        "colab": {
          "base_uri": "https://localhost:8080/"
        },
        "outputId": "5233d31a-4b5c-4791-93c3-3e5a8d4a5ed6"
      },
      "source": [
        "mode_tb=df['Height'].mode()[0]\r\n",
        "mode_tb"
      ],
      "execution_count": 7,
      "outputs": [
        {
          "output_type": "execute_result",
          "data": {
            "text/plain": [
              "188"
            ]
          },
          "metadata": {
            "tags": []
          },
          "execution_count": 7
        }
      ]
    },
    {
      "cell_type": "markdown",
      "metadata": {
        "id": "0VTDUUAl1bQu"
      },
      "source": [
        "#### Median and Quantile"
      ]
    },
    {
      "cell_type": "code",
      "metadata": {
        "id": "Zw6YMYud1bQv",
        "colab": {
          "base_uri": "https://localhost:8080/"
        },
        "outputId": "5e319e2d-b293-444d-f276-d4cc5ccfa0ac"
      },
      "source": [
        "quantileValues = df.quantile(1)\r\n",
        "print(quantileValues)\r\n",
        "median_tb=df['Height'].median()\r\n",
        "print(\"Median is: \" , median_tb)"
      ],
      "execution_count": 8,
      "outputs": [
        {
          "output_type": "stream",
          "text": [
            "Height    199.0\n",
            "Weight    160.0\n",
            "Index       5.0\n",
            "Name: 1, dtype: float64\n",
            "Median is:  170.5\n"
          ],
          "name": "stdout"
        }
      ]
    },
    {
      "cell_type": "markdown",
      "metadata": {
        "id": "WSs4D8Ko1bQy"
      },
      "source": [
        "<span style=\"font-family: Arial; font-weight:bold;font-size:1.5em;color:#ae09ea;\">1.3b) Plot the density graph of 'Height' mentioned in 'train_df' dataset and overlay mean and meadian for the data?"
      ]
    },
    {
      "cell_type": "code",
      "metadata": {
        "id": "snCgYuSm1bQy",
        "scrolled": true,
        "colab": {
          "base_uri": "https://localhost:8080/",
          "height": 129
        },
        "outputId": "39aa7de4-ba11-4e55-f0e2-84f5a5a9d2cd"
      },
      "source": [
        "# Create density plot kind=\"density\"\n",
        "df.plot(kind='density', subplots=True, layout=(3,3), sharex=False)\n",
        "\n",
        "plt.show\n",
        "\n",
        "\n",
        "\n"
      ],
      "execution_count": 9,
      "outputs": [
        {
          "output_type": "execute_result",
          "data": {
            "text/plain": [
              "<function matplotlib.pyplot.show>"
            ]
          },
          "metadata": {
            "tags": []
          },
          "execution_count": 9
        },
        {
          "output_type": "display_data",
          "data": {
            "image/png": "[encoded data removed]",
            "text/plain": [
              "<Figure size 432x288 with 9 Axes>"
            ]
          },
          "metadata": {
            "tags": [],
            "needs_background": "light"
          }
        }
      ]
    },
    {
      "cell_type": "code",
      "metadata": {
        "colab": {
          "base_uri": "https://localhost:8080/",
          "height": 282
        },
        "id": "jdTmxHdpDB6R",
        "outputId": "9f0082ba-d07e-4f80-e1a9-025d0fa0fef4"
      },
      "source": [
        "# create a green line plot for mean  on the density plot:\r\n",
        "a=df['Height'].plot(kind='density')\r\n",
        "plt.axvline(mean_tb,color='g', linestyle='dashed', linewidth=2)\r\n"
      ],
      "execution_count": 10,
      "outputs": [
        {
          "output_type": "execute_result",
          "data": {
            "text/plain": [
              "<matplotlib.lines.Line2D at 0x7fb8fcf590b8>"
            ]
          },
          "metadata": {
            "tags": []
          },
          "execution_count": 10
        },
        {
          "output_type": "display_data",
          "data": {
            "image/png": "[encoded data removed]",
            "text/plain": [
              "<Figure size 432x288 with 1 Axes>"
            ]
          },
          "metadata": {
            "tags": [],
            "needs_background": "light"
          }
        }
      ]
    },
    {
      "cell_type": "code",
      "metadata": {
        "colab": {
          "base_uri": "https://localhost:8080/",
          "height": 282
        },
        "id": "9zwYCi27ExL-",
        "outputId": "9fb01a8f-ecf2-46c8-ccf5-20093f1cfe17"
      },
      "source": [
        "# create a red line plot for median  on the density plot:\r\n",
        "a=df['Height'].plot(kind='density')\r\n",
        "plt.axvline(median_tb,color='r', linestyle='dashed', linewidth=2)"
      ],
      "execution_count": 11,
      "outputs": [
        {
          "output_type": "execute_result",
          "data": {
            "text/plain": [
              "<matplotlib.lines.Line2D at 0x7fb8fa6c8eb8>"
            ]
          },
          "metadata": {
            "tags": []
          },
          "execution_count": 11
        },
        {
          "output_type": "display_data",
          "data": {
            "image/png": "[encoded data removed]",
            "text/plain": [
              "<Figure size 432x288 with 1 Axes>"
            ]
          },
          "metadata": {
            "tags": [],
            "needs_background": "light"
          }
        }
      ]
    },
    {
      "cell_type": "markdown",
      "metadata": {
        "id": "-l3cYuEJ1bQ1"
      },
      "source": [
        "<span style=\"font-family: Arial; font-weight:bold;font-size:1.5em;color:#ae09ea;\"> 1.4 Check (Quantile 25%,50%,75%)?"
      ]
    },
    {
      "cell_type": "markdown",
      "metadata": {
        "id": "IZ7ktSym1bQ2"
      },
      "source": [
        "#### Quantile 25%"
      ]
    },
    {
      "cell_type": "code",
      "metadata": {
        "id": "IbKqJ_Iy1bQ3",
        "colab": {
          "base_uri": "https://localhost:8080/",
          "height": 80
        },
        "outputId": "7bd4a009-4ba7-4e49-9fc8-7669578a9212"
      },
      "source": [
        "df.quantile([ .25], axis = 0)\r\n"
      ],
      "execution_count": null,
      "outputs": [
        {
          "output_type": "execute_result",
          "data": {
            "text/html": [
              "<div>\n",
              "<style scoped>\n",
              "    .dataframe tbody tr th:only-of-type {\n",
              "        vertical-align: middle;\n",
              "    }\n",
              "\n",
              "    .dataframe tbody tr th {\n",
              "        vertical-align: top;\n",
              "    }\n",
              "\n",
              "    .dataframe thead th {\n",
              "        text-align: right;\n",
              "    }\n",
              "</style>\n",
              "<table border=\"1\" class=\"dataframe\">\n",
              "  <thead>\n",
              "    <tr style=\"text-align: right;\">\n",
              "      <th></th>\n",
              "      <th>Height</th>\n",
              "      <th>Weight</th>\n",
              "      <th>Index</th>\n",
              "    </tr>\n",
              "  </thead>\n",
              "  <tbody>\n",
              "    <tr>\n",
              "      <th>0.25</th>\n",
              "      <td>156.0</td>\n",
              "      <td>80.0</td>\n",
              "      <td>3.0</td>\n",
              "    </tr>\n",
              "  </tbody>\n",
              "</table>\n",
              "</div>"
            ],
            "text/plain": [
              "      Height  Weight  Index\n",
              "0.25   156.0    80.0    3.0"
            ]
          },
          "metadata": {
            "tags": []
          },
          "execution_count": 45
        }
      ]
    },
    {
      "cell_type": "markdown",
      "metadata": {
        "id": "WgMqehXI1bQ6"
      },
      "source": [
        "#### Quantile 50%"
      ]
    },
    {
      "cell_type": "code",
      "metadata": {
        "id": "lYMOPWeK1bQ6",
        "colab": {
          "base_uri": "https://localhost:8080/",
          "height": 80
        },
        "outputId": "2c4655e7-39f0-45d9-fad1-367f45769bf9"
      },
      "source": [
        "df.quantile([.5], axis = 0)"
      ],
      "execution_count": null,
      "outputs": [
        {
          "output_type": "execute_result",
          "data": {
            "text/html": [
              "<div>\n",
              "<style scoped>\n",
              "    .dataframe tbody tr th:only-of-type {\n",
              "        vertical-align: middle;\n",
              "    }\n",
              "\n",
              "    .dataframe tbody tr th {\n",
              "        vertical-align: top;\n",
              "    }\n",
              "\n",
              "    .dataframe thead th {\n",
              "        text-align: right;\n",
              "    }\n",
              "</style>\n",
              "<table border=\"1\" class=\"dataframe\">\n",
              "  <thead>\n",
              "    <tr style=\"text-align: right;\">\n",
              "      <th></th>\n",
              "      <th>Height</th>\n",
              "      <th>Weight</th>\n",
              "      <th>Index</th>\n",
              "    </tr>\n",
              "  </thead>\n",
              "  <tbody>\n",
              "    <tr>\n",
              "      <th>0.5</th>\n",
              "      <td>170.5</td>\n",
              "      <td>106.0</td>\n",
              "      <td>4.0</td>\n",
              "    </tr>\n",
              "  </tbody>\n",
              "</table>\n",
              "</div>"
            ],
            "text/plain": [
              "     Height  Weight  Index\n",
              "0.5   170.5   106.0    4.0"
            ]
          },
          "metadata": {
            "tags": []
          },
          "execution_count": 46
        }
      ]
    },
    {
      "cell_type": "markdown",
      "metadata": {
        "id": "DgbZePIJ1bQ9"
      },
      "source": [
        "#### Quantile 75%"
      ]
    },
    {
      "cell_type": "code",
      "metadata": {
        "id": "noj4fSVm1bQ9",
        "colab": {
          "base_uri": "https://localhost:8080/",
          "height": 80
        },
        "outputId": "5039726f-30c5-494d-8991-2417de8fcfe0"
      },
      "source": [
        "df.quantile([.75], axis = 0)"
      ],
      "execution_count": null,
      "outputs": [
        {
          "output_type": "execute_result",
          "data": {
            "text/html": [
              "<div>\n",
              "<style scoped>\n",
              "    .dataframe tbody tr th:only-of-type {\n",
              "        vertical-align: middle;\n",
              "    }\n",
              "\n",
              "    .dataframe tbody tr th {\n",
              "        vertical-align: top;\n",
              "    }\n",
              "\n",
              "    .dataframe thead th {\n",
              "        text-align: right;\n",
              "    }\n",
              "</style>\n",
              "<table border=\"1\" class=\"dataframe\">\n",
              "  <thead>\n",
              "    <tr style=\"text-align: right;\">\n",
              "      <th></th>\n",
              "      <th>Height</th>\n",
              "      <th>Weight</th>\n",
              "      <th>Index</th>\n",
              "    </tr>\n",
              "  </thead>\n",
              "  <tbody>\n",
              "    <tr>\n",
              "      <th>0.75</th>\n",
              "      <td>184.0</td>\n",
              "      <td>136.0</td>\n",
              "      <td>5.0</td>\n",
              "    </tr>\n",
              "  </tbody>\n",
              "</table>\n",
              "</div>"
            ],
            "text/plain": [
              "      Height  Weight  Index\n",
              "0.75   184.0   136.0    5.0"
            ]
          },
          "metadata": {
            "tags": []
          },
          "execution_count": 47
        }
      ]
    },
    {
      "cell_type": "markdown",
      "metadata": {
        "id": "fqi_C-RN1bRA"
      },
      "source": [
        "<span style=\"font-family: Arial; font-weight:bold;font-size:1.5em;color:#ae09ea;\"> 1.5 Measures of Dispersion"
      ]
    },
    {
      "cell_type": "markdown",
      "metadata": {
        "id": "K7Zvrt6i1bRB"
      },
      "source": [
        "Measures of Dispersion are measures that indicate how spread the data is, or how they vary. The measures of dispersion are range, variance, standard deviation and the absolute deviation, or mean absolute deviation."
      ]
    },
    {
      "cell_type": "markdown",
      "metadata": {
        "id": "0JRF21Vw1bRC"
      },
      "source": [
        "1.5a)  Find out the Range,Variance,Standard Deviation,Absolute Deviation or Mean Absolute Deviation for the 'Height' column of 'train_df' dataset??"
      ]
    },
    {
      "cell_type": "markdown",
      "metadata": {
        "id": "Msr7FQEN1bRD"
      },
      "source": [
        "#### Range for height"
      ]
    },
    {
      "cell_type": "code",
      "metadata": {
        "colab": {
          "base_uri": "https://localhost:8080/",
          "height": 204
        },
        "id": "TaxpIOXKG3qD",
        "outputId": "a32878aa-75b7-4f5a-fcb3-49adef41e1c1"
      },
      "source": [
        "df.head(5)"
      ],
      "execution_count": null,
      "outputs": [
        {
          "output_type": "execute_result",
          "data": {
            "text/html": [
              "<div>\n",
              "<style scoped>\n",
              "    .dataframe tbody tr th:only-of-type {\n",
              "        vertical-align: middle;\n",
              "    }\n",
              "\n",
              "    .dataframe tbody tr th {\n",
              "        vertical-align: top;\n",
              "    }\n",
              "\n",
              "    .dataframe thead th {\n",
              "        text-align: right;\n",
              "    }\n",
              "</style>\n",
              "<table border=\"1\" class=\"dataframe\">\n",
              "  <thead>\n",
              "    <tr style=\"text-align: right;\">\n",
              "      <th></th>\n",
              "      <th>Gender</th>\n",
              "      <th>Height</th>\n",
              "      <th>Weight</th>\n",
              "      <th>Index</th>\n",
              "    </tr>\n",
              "  </thead>\n",
              "  <tbody>\n",
              "    <tr>\n",
              "      <th>0</th>\n",
              "      <td>Male</td>\n",
              "      <td>174</td>\n",
              "      <td>96</td>\n",
              "      <td>4</td>\n",
              "    </tr>\n",
              "    <tr>\n",
              "      <th>1</th>\n",
              "      <td>Male</td>\n",
              "      <td>189</td>\n",
              "      <td>87</td>\n",
              "      <td>2</td>\n",
              "    </tr>\n",
              "    <tr>\n",
              "      <th>2</th>\n",
              "      <td>Female</td>\n",
              "      <td>185</td>\n",
              "      <td>110</td>\n",
              "      <td>4</td>\n",
              "    </tr>\n",
              "    <tr>\n",
              "      <th>3</th>\n",
              "      <td>Female</td>\n",
              "      <td>195</td>\n",
              "      <td>104</td>\n",
              "      <td>3</td>\n",
              "    </tr>\n",
              "    <tr>\n",
              "      <th>4</th>\n",
              "      <td>Male</td>\n",
              "      <td>149</td>\n",
              "      <td>61</td>\n",
              "      <td>3</td>\n",
              "    </tr>\n",
              "  </tbody>\n",
              "</table>\n",
              "</div>"
            ],
            "text/plain": [
              "   Gender  Height  Weight  Index\n",
              "0    Male     174      96      4\n",
              "1    Male     189      87      2\n",
              "2  Female     185     110      4\n",
              "3  Female     195     104      3\n",
              "4    Male     149      61      3"
            ]
          },
          "metadata": {
            "tags": []
          },
          "execution_count": 48
        }
      ]
    },
    {
      "cell_type": "code",
      "metadata": {
        "colab": {
          "base_uri": "https://localhost:8080/"
        },
        "id": "ibxTNSeVG6ln",
        "outputId": "5ea5ec97-6805-4bec-cb5f-684869b06a1a"
      },
      "source": [
        "a=print(df.Height.max())\r\n",
        "b=print(df.Height.min())\r\n",
        "ran=df.Height.max() - df.Height.min()\r\n",
        "print(ran)"
      ],
      "execution_count": null,
      "outputs": [
        {
          "output_type": "stream",
          "text": [
            "59\n"
          ],
          "name": "stdout"
        }
      ]
    },
    {
      "cell_type": "markdown",
      "metadata": {
        "id": "xLmzux201bRG"
      },
      "source": [
        "#### Variance"
      ]
    },
    {
      "cell_type": "code",
      "metadata": {
        "id": "ch_RDH6A1bRG",
        "colab": {
          "base_uri": "https://localhost:8080/"
        },
        "outputId": "775d40fa-dc3e-4ca9-a367-4f70ae0cfc74"
      },
      "source": [
        "print(df.var())"
      ],
      "execution_count": null,
      "outputs": [
        {
          "output_type": "stream",
          "text": [
            "Height     268.149162\n",
            "Weight    1048.633267\n",
            "Index        1.836168\n",
            "dtype: float64\n"
          ],
          "name": "stdout"
        }
      ]
    },
    {
      "cell_type": "markdown",
      "metadata": {
        "id": "_cUxtFbp1bRJ"
      },
      "source": [
        "#### Standard Deviation"
      ]
    },
    {
      "cell_type": "code",
      "metadata": {
        "id": "AaTTuzxr1bRJ",
        "colab": {
          "base_uri": "https://localhost:8080/"
        },
        "outputId": "9a911667-d9e4-4961-f171-d124374ad553"
      },
      "source": [
        "print(df.std())"
      ],
      "execution_count": null,
      "outputs": [
        {
          "output_type": "stream",
          "text": [
            "Height    16.375261\n",
            "Weight    32.382607\n",
            "Index      1.355053\n",
            "dtype: float64\n"
          ],
          "name": "stdout"
        }
      ]
    },
    {
      "cell_type": "markdown",
      "metadata": {
        "id": "oYYfD1_71bRM"
      },
      "source": [
        "#### Absolute Deviation or Mean Absolute Deviation"
      ]
    },
    {
      "cell_type": "markdown",
      "metadata": {
        "id": "V8fC94dZ1bRN"
      },
      "source": [
        "<span style=\"font-family: Arial; font-weight:bold;font-size:1.5em;color:#ae09ea;\"> 1.6 Covariance and Correlation"
      ]
    },
    {
      "cell_type": "markdown",
      "metadata": {
        "id": "vmtdKZTs1bRO"
      },
      "source": [
        "1. Covariance is a numerical measure that indicates the inter-dependency between two variables. \n",
        "2. Covariance indicates how two variables behave together in relation to their averages. \n",
        "3. A covariance of 0 indicates that the variables are totally independant, while a high and positive covariance value means that a variable is big when the other is big. Analogously, a negative covariance with a high absolute value means that one variable is big when the other is small.\n",
        "4. Covariance can be calculated through the cov() function. "
      ]
    },
    {
      "cell_type": "markdown",
      "metadata": {
        "id": "eaE5_jE71bRP"
      },
      "source": [
        "<span style=\"font-family: Arial; font-weight:bold;font-size:1.2em;color:#ae09ea;\"> 1.6a) Check the Covariance and Correlation scores . write your Observations?"
      ]
    },
    {
      "cell_type": "markdown",
      "metadata": {
        "id": "QW5eN0Ok1bRP"
      },
      "source": [
        "#### Covariance"
      ]
    },
    {
      "cell_type": "code",
      "metadata": {
        "id": "9kIr2P3q1bRR",
        "colab": {
          "base_uri": "https://localhost:8080/",
          "height": 142
        },
        "outputId": "20b27fbd-c7d6-49d7-c808-2f44765992b5"
      },
      "source": [
        "df.cov()"
      ],
      "execution_count": null,
      "outputs": [
        {
          "output_type": "execute_result",
          "data": {
            "text/html": [
              "<div>\n",
              "<style scoped>\n",
              "    .dataframe tbody tr th:only-of-type {\n",
              "        vertical-align: middle;\n",
              "    }\n",
              "\n",
              "    .dataframe tbody tr th {\n",
              "        vertical-align: top;\n",
              "    }\n",
              "\n",
              "    .dataframe thead th {\n",
              "        text-align: right;\n",
              "    }\n",
              "</style>\n",
              "<table border=\"1\" class=\"dataframe\">\n",
              "  <thead>\n",
              "    <tr style=\"text-align: right;\">\n",
              "      <th></th>\n",
              "      <th>Height</th>\n",
              "      <th>Weight</th>\n",
              "      <th>Index</th>\n",
              "    </tr>\n",
              "  </thead>\n",
              "  <tbody>\n",
              "    <tr>\n",
              "      <th>Height</th>\n",
              "      <td>268.149162</td>\n",
              "      <td>0.236473</td>\n",
              "      <td>-9.368850</td>\n",
              "    </tr>\n",
              "    <tr>\n",
              "      <th>Weight</th>\n",
              "      <td>0.236473</td>\n",
              "      <td>1048.633267</td>\n",
              "      <td>35.304609</td>\n",
              "    </tr>\n",
              "    <tr>\n",
              "      <th>Index</th>\n",
              "      <td>-9.368850</td>\n",
              "      <td>35.304609</td>\n",
              "      <td>1.836168</td>\n",
              "    </tr>\n",
              "  </tbody>\n",
              "</table>\n",
              "</div>"
            ],
            "text/plain": [
              "            Height       Weight      Index\n",
              "Height  268.149162     0.236473  -9.368850\n",
              "Weight    0.236473  1048.633267  35.304609\n",
              "Index    -9.368850    35.304609   1.836168"
            ]
          },
          "metadata": {
            "tags": []
          },
          "execution_count": 64
        }
      ]
    },
    {
      "cell_type": "markdown",
      "metadata": {
        "id": "8_vZ5q9u1bRT"
      },
      "source": [
        "<span style=\"font-family: Arial; font-weight:bold;font-size:1.1em;color:#ae09ea;\"> Observation:\n",
        "   "
      ]
    },
    {
      "cell_type": "code",
      "metadata": {
        "id": "hTdLLYfW1bRU"
      },
      "source": [
        ""
      ],
      "execution_count": null,
      "outputs": []
    },
    {
      "cell_type": "markdown",
      "metadata": {
        "id": "2iuE5qSV1bRW"
      },
      "source": [
        "#### Correlation"
      ]
    },
    {
      "cell_type": "code",
      "metadata": {
        "id": "wi3V_PwG1bRW",
        "colab": {
          "base_uri": "https://localhost:8080/",
          "height": 142
        },
        "outputId": "52b8b4c3-a34a-4784-d555-fed7b2984940"
      },
      "source": [
        "df.corr(method='pearson')"
      ],
      "execution_count": null,
      "outputs": [
        {
          "output_type": "execute_result",
          "data": {
            "text/html": [
              "<div>\n",
              "<style scoped>\n",
              "    .dataframe tbody tr th:only-of-type {\n",
              "        vertical-align: middle;\n",
              "    }\n",
              "\n",
              "    .dataframe tbody tr th {\n",
              "        vertical-align: top;\n",
              "    }\n",
              "\n",
              "    .dataframe thead th {\n",
              "        text-align: right;\n",
              "    }\n",
              "</style>\n",
              "<table border=\"1\" class=\"dataframe\">\n",
              "  <thead>\n",
              "    <tr style=\"text-align: right;\">\n",
              "      <th></th>\n",
              "      <th>Height</th>\n",
              "      <th>Weight</th>\n",
              "      <th>Index</th>\n",
              "    </tr>\n",
              "  </thead>\n",
              "  <tbody>\n",
              "    <tr>\n",
              "      <th>Height</th>\n",
              "      <td>1.000000</td>\n",
              "      <td>0.000446</td>\n",
              "      <td>-0.422223</td>\n",
              "    </tr>\n",
              "    <tr>\n",
              "      <th>Weight</th>\n",
              "      <td>0.000446</td>\n",
              "      <td>1.000000</td>\n",
              "      <td>0.804569</td>\n",
              "    </tr>\n",
              "    <tr>\n",
              "      <th>Index</th>\n",
              "      <td>-0.422223</td>\n",
              "      <td>0.804569</td>\n",
              "      <td>1.000000</td>\n",
              "    </tr>\n",
              "  </tbody>\n",
              "</table>\n",
              "</div>"
            ],
            "text/plain": [
              "          Height    Weight     Index\n",
              "Height  1.000000  0.000446 -0.422223\n",
              "Weight  0.000446  1.000000  0.804569\n",
              "Index  -0.422223  0.804569  1.000000"
            ]
          },
          "metadata": {
            "tags": []
          },
          "execution_count": 65
        }
      ]
    },
    {
      "cell_type": "markdown",
      "metadata": {
        "id": "KUNhywiY1bRY"
      },
      "source": [
        "<span style=\"font-family: Arial; font-weight:bold;font-size:1.1em;color:#ae09ea;\"> Observation:\n",
        "    \n"
      ]
    },
    {
      "cell_type": "code",
      "metadata": {
        "id": "TywGrPR21bRZ"
      },
      "source": [
        "diagonals have linear relationships.\r\n",
        "some values have positive correlation and some have negative  correlation"
      ],
      "execution_count": null,
      "outputs": []
    },
    {
      "cell_type": "markdown",
      "metadata": {
        "id": "2b8NKdwv1bRb"
      },
      "source": [
        "\n",
        "<span style=\"font-family: Arial; font-weight:bold;font-size:1.9em;color:#ae09ea;\">Case Study 2"
      ]
    },
    {
      "cell_type": "markdown",
      "metadata": {
        "id": "z2X8HxvC1bRc"
      },
      "source": [
        "\n",
        "<span style=\"font-family: Arial; font-weight:bold;font-size:1.5em;color:#ae09ea;\">About the dataset:<span style=\"font-family: Arial; font-weight:bold;font-size:1em;color:red;\">(Motor Trend US Magazine)"
      ]
    },
    {
      "cell_type": "markdown",
      "metadata": {
        "id": "k3DAsPCU1bRd"
      },
      "source": [
        "The data was extracted from the 1974 Motor Trend US magazine, and comprises fuel consumption and 10 aspects of automobile design and performance for 32 automobiles (1973–74 models)\n",
        "\n",
        "A data frame with 32 observations on 11 (numeric) variables.\n",
        "* model= carmodels\n",
        "* mpg =\tMiles/(US) gallon\n",
        "* cyl =\tNumber of cylinders\n",
        "* disp=\tDisplacement (cu.in.)\n",
        "* hp  =Gross horsepower\n",
        "* drat=\tRear axle ratio\n",
        "* wt  =Weight (1000 lbs)\n",
        "* qsec=1/4 mile time\n",
        "* vs  =Engine (0 = V-shaped, 1 = straight)\n",
        "* am  =Transmission (0 = automatic, 1 = manual)\n",
        "* gear=\tNumber of forward gears\n",
        "* carb=\tNumber of carburetors"
      ]
    },
    {
      "cell_type": "markdown",
      "metadata": {
        "id": "NZNKIlNV1bRd"
      },
      "source": [
        "\n",
        "<span style=\"font-family: Arial; font-weight:bold;font-size:1.5em;color:#ae09ea;\"> 2.1. Importing the dataset(mtcars.csv.csv):"
      ]
    },
    {
      "cell_type": "code",
      "metadata": {
        "id": "YlHHgpx41bRe",
        "colab": {
          "resources": {
            "http://localhost:8080/nbextensions/google.colab/files.js": {
              "data": "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",
              "ok": true,
              "headers": [
                [
                  "content-type",
                  "application/javascript"
                ]
              ],
              "status": 200,
              "status_text": ""
            }
          },
          "base_uri": "https://localhost:8080/",
          "height": 72
        },
        "outputId": "913f9392-c2f6-4bf0-f74c-01c87bc75ba3"
      },
      "source": [
        "from google.colab import files\r\n",
        "uploaded = files.upload()\r\n"
      ],
      "execution_count": 13,
      "outputs": [
        {
          "output_type": "display_data",
          "data": {
            "text/html": [
              "\n",
              "     <input type=\"file\" id=\"files-d32c5950-d130-46a5-b29d-fe1b467d757b\" name=\"files[]\" multiple disabled\n",
              "        style=\"border:none\" />\n",
              "     <output id=\"result-d32c5950-d130-46a5-b29d-fe1b467d757b\">\n",
              "      Upload widget is only available when the cell has been executed in the\n",
              "      current browser session. Please rerun this cell to enable.\n",
              "      </output>\n",
              "      <script src=\"/nbextensions/google.colab/files.js\"></script> "
            ],
            "text/plain": [
              "<IPython.core.display.HTML object>"
            ]
          },
          "metadata": {
            "tags": []
          }
        },
        {
          "output_type": "stream",
          "text": [
            "Saving mtcars.csv to mtcars.csv\n"
          ],
          "name": "stdout"
        }
      ]
    },
    {
      "cell_type": "code",
      "metadata": {
        "id": "v2SY9U1S3Mcf"
      },
      "source": [
        "df2 = pd.read_csv('mtcars.csv')"
      ],
      "execution_count": 14,
      "outputs": []
    },
    {
      "cell_type": "markdown",
      "metadata": {
        "id": "qz2SuMG91bRg"
      },
      "source": [
        "<span style=\"font-family: Arial; font-weight:bold;font-size:1.5em;color:#ae09ea;\"> 2.2 check the mtcars.describe()?"
      ]
    },
    {
      "cell_type": "code",
      "metadata": {
        "id": "xt309CAw1bRh",
        "colab": {
          "base_uri": "https://localhost:8080/",
          "height": 297
        },
        "outputId": "6da0e670-e3a8-4e49-849c-19b15ec36bf9"
      },
      "source": [
        "df2.describe()"
      ],
      "execution_count": null,
      "outputs": [
        {
          "output_type": "execute_result",
          "data": {
            "text/html": [
              "<div>\n",
              "<style scoped>\n",
              "    .dataframe tbody tr th:only-of-type {\n",
              "        vertical-align: middle;\n",
              "    }\n",
              "\n",
              "    .dataframe tbody tr th {\n",
              "        vertical-align: top;\n",
              "    }\n",
              "\n",
              "    .dataframe thead th {\n",
              "        text-align: right;\n",
              "    }\n",
              "</style>\n",
              "<table border=\"1\" class=\"dataframe\">\n",
              "  <thead>\n",
              "    <tr style=\"text-align: right;\">\n",
              "      <th></th>\n",
              "      <th>mpg</th>\n",
              "      <th>cyl</th>\n",
              "      <th>disp</th>\n",
              "      <th>hp</th>\n",
              "      <th>drat</th>\n",
              "      <th>wt</th>\n",
              "      <th>qsec</th>\n",
              "      <th>vs</th>\n",
              "      <th>am</th>\n",
              "      <th>gear</th>\n",
              "      <th>carb</th>\n",
              "    </tr>\n",
              "  </thead>\n",
              "  <tbody>\n",
              "    <tr>\n",
              "      <th>count</th>\n",
              "      <td>32.000000</td>\n",
              "      <td>32.000000</td>\n",
              "      <td>32.000000</td>\n",
              "      <td>32.000000</td>\n",
              "      <td>32.000000</td>\n",
              "      <td>32.000000</td>\n",
              "      <td>32.000000</td>\n",
              "      <td>32.000000</td>\n",
              "      <td>32.000000</td>\n",
              "      <td>32.000000</td>\n",
              "      <td>32.0000</td>\n",
              "    </tr>\n",
              "    <tr>\n",
              "      <th>mean</th>\n",
              "      <td>20.090625</td>\n",
              "      <td>6.187500</td>\n",
              "      <td>230.721875</td>\n",
              "      <td>146.687500</td>\n",
              "      <td>3.596563</td>\n",
              "      <td>3.217250</td>\n",
              "      <td>17.848750</td>\n",
              "      <td>0.437500</td>\n",
              "      <td>0.406250</td>\n",
              "      <td>3.687500</td>\n",
              "      <td>2.8125</td>\n",
              "    </tr>\n",
              "    <tr>\n",
              "      <th>std</th>\n",
              "      <td>6.026948</td>\n",
              "      <td>1.785922</td>\n",
              "      <td>123.938694</td>\n",
              "      <td>68.562868</td>\n",
              "      <td>0.534679</td>\n",
              "      <td>0.978457</td>\n",
              "      <td>1.786943</td>\n",
              "      <td>0.504016</td>\n",
              "      <td>0.498991</td>\n",
              "      <td>0.737804</td>\n",
              "      <td>1.6152</td>\n",
              "    </tr>\n",
              "    <tr>\n",
              "      <th>min</th>\n",
              "      <td>10.400000</td>\n",
              "      <td>4.000000</td>\n",
              "      <td>71.100000</td>\n",
              "      <td>52.000000</td>\n",
              "      <td>2.760000</td>\n",
              "      <td>1.513000</td>\n",
              "      <td>14.500000</td>\n",
              "      <td>0.000000</td>\n",
              "      <td>0.000000</td>\n",
              "      <td>3.000000</td>\n",
              "      <td>1.0000</td>\n",
              "    </tr>\n",
              "    <tr>\n",
              "      <th>25%</th>\n",
              "      <td>15.425000</td>\n",
              "      <td>4.000000</td>\n",
              "      <td>120.825000</td>\n",
              "      <td>96.500000</td>\n",
              "      <td>3.080000</td>\n",
              "      <td>2.581250</td>\n",
              "      <td>16.892500</td>\n",
              "      <td>0.000000</td>\n",
              "      <td>0.000000</td>\n",
              "      <td>3.000000</td>\n",
              "      <td>2.0000</td>\n",
              "    </tr>\n",
              "    <tr>\n",
              "      <th>50%</th>\n",
              "      <td>19.200000</td>\n",
              "      <td>6.000000</td>\n",
              "      <td>196.300000</td>\n",
              "      <td>123.000000</td>\n",
              "      <td>3.695000</td>\n",
              "      <td>3.325000</td>\n",
              "      <td>17.710000</td>\n",
              "      <td>0.000000</td>\n",
              "      <td>0.000000</td>\n",
              "      <td>4.000000</td>\n",
              "      <td>2.0000</td>\n",
              "    </tr>\n",
              "    <tr>\n",
              "      <th>75%</th>\n",
              "      <td>22.800000</td>\n",
              "      <td>8.000000</td>\n",
              "      <td>326.000000</td>\n",
              "      <td>180.000000</td>\n",
              "      <td>3.920000</td>\n",
              "      <td>3.610000</td>\n",
              "      <td>18.900000</td>\n",
              "      <td>1.000000</td>\n",
              "      <td>1.000000</td>\n",
              "      <td>4.000000</td>\n",
              "      <td>4.0000</td>\n",
              "    </tr>\n",
              "    <tr>\n",
              "      <th>max</th>\n",
              "      <td>33.900000</td>\n",
              "      <td>8.000000</td>\n",
              "      <td>472.000000</td>\n",
              "      <td>335.000000</td>\n",
              "      <td>4.930000</td>\n",
              "      <td>5.424000</td>\n",
              "      <td>22.900000</td>\n",
              "      <td>1.000000</td>\n",
              "      <td>1.000000</td>\n",
              "      <td>5.000000</td>\n",
              "      <td>8.0000</td>\n",
              "    </tr>\n",
              "  </tbody>\n",
              "</table>\n",
              "</div>"
            ],
            "text/plain": [
              "             mpg        cyl        disp  ...         am       gear     carb\n",
              "count  32.000000  32.000000   32.000000  ...  32.000000  32.000000  32.0000\n",
              "mean   20.090625   6.187500  230.721875  ...   0.406250   3.687500   2.8125\n",
              "std     6.026948   1.785922  123.938694  ...   0.498991   0.737804   1.6152\n",
              "min    10.400000   4.000000   71.100000  ...   0.000000   3.000000   1.0000\n",
              "25%    15.425000   4.000000  120.825000  ...   0.000000   3.000000   2.0000\n",
              "50%    19.200000   6.000000  196.300000  ...   0.000000   4.000000   2.0000\n",
              "75%    22.800000   8.000000  326.000000  ...   1.000000   4.000000   4.0000\n",
              "max    33.900000   8.000000  472.000000  ...   1.000000   5.000000   8.0000\n",
              "\n",
              "[8 rows x 11 columns]"
            ]
          },
          "metadata": {
            "tags": []
          },
          "execution_count": 67
        }
      ]
    },
    {
      "cell_type": "markdown",
      "metadata": {
        "id": "mMKAQL8h1bRj"
      },
      "source": [
        "<span style=\"font-family: Arial; font-weight:bold;font-size:1.5em;color:#ae09ea;\">2.3  create a boxplot to visualize the five point summary and IQR. Write your Observations?"
      ]
    },
    {
      "cell_type": "code",
      "metadata": {
        "id": "z_n2uniS1bRk",
        "colab": {
          "base_uri": "https://localhost:8080/",
          "height": 337
        },
        "outputId": "ddae9476-aee3-4bad-e9c0-33fe9ce0ff60"
      },
      "source": [
        "# Create boxplot for column=\"mpg\"\n",
        "plt.boxplot(df2.mpg)\n",
        "# create text(x=0.74, y=22.25, s=\"3rd Quartile\")like Median, 1st Quartile,Min,Max,IQR:\n",
        "q1 = df2.mpg.quantile(0.25)\n",
        "print(q1)\n",
        "q3 = df2.mpg.quantile(0.75)\n",
        "print(q3)\n",
        "print(q3-q1)\n",
        "plt.text(x=0.74, y=15.42, s='1st Quartile')\n",
        "plt.text(x=0.74, y=df2.mpg.median(), s='Median')\n",
        "plt.text(x=0.74, y=22.80, s='3rd Quartile')\n",
        "plt.text(x=0.74, y=df2.mpg.min(), s='Min')\n",
        "plt.text(x=0.74, y=df2.mpg.max(), s='Max')\n",
        "plt.text(x=1.1,y=18, s='IQR')"
      ],
      "execution_count": 17,
      "outputs": [
        {
          "output_type": "stream",
          "text": [
            "15.425\n",
            "22.8\n",
            "7.375\n"
          ],
          "name": "stdout"
        },
        {
          "output_type": "execute_result",
          "data": {
            "text/plain": [
              "Text(1.1, 18, 'IQR')"
            ]
          },
          "metadata": {
            "tags": []
          },
          "execution_count": 17
        },
        {
          "output_type": "display_data",
          "data": {
            "image/png": "[encoded data removed]",
            "text/plain": [
              "<Figure size 432x288 with 1 Axes>"
            ]
          },
          "metadata": {
            "tags": [],
            "needs_background": "light"
          }
        }
      ]
    },
    {
      "cell_type": "markdown",
      "metadata": {
        "id": "Fy8ihjtd1bRn"
      },
      "source": [
        "<span style=\"font-family: Arial; font-weight:bold;font-size:1.1em;color:#ae09ea;\"> Observation:\n"
      ]
    },
    {
      "cell_type": "code",
      "metadata": {
        "id": "i9NxYV_w1bRn"
      },
      "source": [
        ""
      ],
      "execution_count": null,
      "outputs": []
    },
    {
      "cell_type": "markdown",
      "metadata": {
        "id": "ZvzlHmFv1bRq"
      },
      "source": [
        "<span style=\"font-family: Arial; font-weight:bold;font-size:1.5em;color:#ae09ea;\"> 2.4 Creat New random.normal(size=100000) to visualize mean and median on a density plot . write your Observations ?"
      ]
    },
    {
      "cell_type": "code",
      "metadata": {
        "id": "kuO-J3Jj1bRr",
        "colab": {
          "base_uri": "https://localhost:8080/",
          "height": 350
        },
        "outputId": "605007cf-2093-4952-8fbb-4c3fb5095793"
      },
      "source": [
        "# Create New random.normal(size=100000)\n",
        "new= pd.DataFrame(np.random.normal(10, 2, size=100000))\n",
        "\n",
        "\n",
        "\n",
        "# create density plot new data:\n",
        "new.plot(kind=\"density\", grid=False)\n",
        "\n",
        "# create a red line plot for mean on the density plot:\n",
        "\n",
        "plt.vlines(new.mean(), ymin=0, ymax=0.4,color= 'red', linewidth=5.0)          \n",
        "print(new.mean())\n",
        "## create a green line plot for median on the density plot:\n",
        "print(new.median())\n",
        "plt.vlines(new.median(), ymin=0,ymax=0.4, linewidth=2.0, color=\"green\")  "
      ],
      "execution_count": null,
      "outputs": [
        {
          "output_type": "stream",
          "text": [
            "0    9.999636\n",
            "dtype: float64\n",
            "0    9.994784\n",
            "dtype: float64\n"
          ],
          "name": "stdout"
        },
        {
          "output_type": "execute_result",
          "data": {
            "text/plain": [
              "<matplotlib.collections.LineCollection at 0x7fda7d8dd278>"
            ]
          },
          "metadata": {
            "tags": []
          },
          "execution_count": 100
        },
        {
          "output_type": "display_data",
          "data": {
            "image/png": "[encoded data removed]",
            "text/plain": [
              "<Figure size 432x288 with 1 Axes>"
            ]
          },
          "metadata": {
            "tags": []
          }
        }
      ]
    },
    {
      "cell_type": "code",
      "metadata": {
        "id": "c7kkxEUrQuV6"
      },
      "source": [
        ""
      ],
      "execution_count": null,
      "outputs": []
    },
    {
      "cell_type": "markdown",
      "metadata": {
        "id": "rUt8qt4Q1bRt"
      },
      "source": [
        "<span style=\"font-family: Arial; font-weight:bold;font-size:1.1em;color:#ae09ea;\"> Observation:\n",
        "\n"
      ]
    },
    {
      "cell_type": "code",
      "metadata": {
        "id": "dR8ExCJz1bRu"
      },
      "source": [
        "mean and median are alomost overlapping on each other"
      ],
      "execution_count": null,
      "outputs": []
    },
    {
      "cell_type": "markdown",
      "metadata": {
        "id": "YDEa0tdk1bRw"
      },
      "source": [
        "<span style=\"font-family: Arial; font-weight:bold;font-size:1.5em;color:#ae09ea;\">2.5 Create New skewed_data random.exponential(size=100000) to visualize mean and median on a density plot.  write your Observations?"
      ]
    },
    {
      "cell_type": "code",
      "metadata": {
        "id": "ZhgKUH9q1bRy",
        "colab": {
          "base_uri": "https://localhost:8080/",
          "height": 282
        },
        "outputId": "defd7901-e9ff-45a2-dd2b-33dd57430fcd"
      },
      "source": [
        "# create skewed_data exponential(size=100000)):\n",
        "\n",
        "skewed_data = pd.DataFrame(np.random.exponential(size=100000)) #here i have converted the numpy array into a dataframe for asthetic visual\n",
        "          \n",
        "#create density plot for skewed_data:\n",
        "skewed_data.plot(kind=\"density\",grid=False)\n",
        "\n",
        "# create a red line plot for mean  on the density plot:\n",
        "\n",
        "plt.vlines(skewed_data.mean(),ymin=0, ymax=0.8,linewidth=5.0, color=\"red\")     \n",
        "## create a green line plot for median  on the density plot:\n",
        "\n",
        "plt.vlines(skewed_data.median(), ymin=0,ymax=0.8, linewidth=2.0,color=\"green\")  "
      ],
      "execution_count": null,
      "outputs": [
        {
          "output_type": "execute_result",
          "data": {
            "text/plain": [
              "<matplotlib.collections.LineCollection at 0x7fda7dfb74e0>"
            ]
          },
          "metadata": {
            "tags": []
          },
          "execution_count": 95
        },
        {
          "output_type": "display_data",
          "data": {
            "image/png": "[encoded data removed]",
            "text/plain": [
              "<Figure size 432x288 with 1 Axes>"
            ]
          },
          "metadata": {
            "tags": []
          }
        }
      ]
    },
    {
      "cell_type": "markdown",
      "metadata": {
        "id": "0kKKImLU1bR1"
      },
      "source": [
        "<span style=\"font-family: Arial; font-weight:bold;font-size:1.1em;color:#ae09ea;\"> Observation:\n",
        "\n"
      ]
    },
    {
      "cell_type": "code",
      "metadata": {
        "id": "Qo0m1QQn1bR1"
      },
      "source": [
        ""
      ],
      "execution_count": null,
      "outputs": []
    },
    {
      "cell_type": "markdown",
      "metadata": {
        "id": "2ckg5XWM1bR6"
      },
      "source": [
        "<span style=\"font-family: Arial; font-weight:bold;font-size:1.5em;color:#ae09ea;\"> 2.6 Create both (Newdata,outliers data ) using random.normal(size=50) to visualize mean and median on a density plot.  write your Observations?"
      ]
    },
    {
      "cell_type": "code",
      "metadata": {
        "id": "MKebfkeY1bR7",
        "scrolled": true,
        "colab": {
          "base_uri": "https://localhost:8080/",
          "height": 282
        },
        "outputId": "a24cdc64-6054-48e4-8c1e-b086b758c074"
      },
      "source": [
        "# create a normally distributed data with mean 0 using random.normal(size=50) \n",
        "normal_data = np.random.normal(size=50)\n",
        "\n",
        "\n",
        "# create a additional outlier data uwith mean >=10 using random.normal(loc=10 size=15) \n",
        "\n",
        "outliers = np.random.normal(10, size=15)\n",
        "\n",
        "# Concatenate both the data sets\n",
        "\n",
        "both = pd.DataFrame(np.concatenate((normal_data, outliers), axis=0))\n",
        "\n",
        "# Create a density plot\n",
        "\n",
        "both.plot(kind=\"density\",grid=False)\n",
        "\n",
        "\n",
        "# create a red line plot for mean on the density plot:\n",
        "plt.vlines(both.mean(),ymin=0, ymax=0.2,linewidth=5.0, color=\"red\")\n",
        "     \n",
        "\n",
        "# create a green line plot for median on the density plot:\n",
        "plt.vlines(both.median(), ymin=0,ymax=0.2,linewidth=2.0,color=\"green\")\n"
      ],
      "execution_count": null,
      "outputs": [
        {
          "output_type": "execute_result",
          "data": {
            "text/plain": [
              "<matplotlib.collections.LineCollection at 0x7fda7d24bf28>"
            ]
          },
          "metadata": {
            "tags": []
          },
          "execution_count": 102
        },
        {
          "output_type": "display_data",
          "data": {
            "image/png": "[encoded data removed]",
            "text/plain": [
              "<Figure size 432x288 with 1 Axes>"
            ]
          },
          "metadata": {
            "tags": []
          }
        }
      ]
    },
    {
      "cell_type": "markdown",
      "metadata": {
        "id": "X9SR-KCZ1bR9"
      },
      "source": [
        "<span style=\"font-family: Arial; font-weight:bold;font-size:1.1em;color:#ae09ea;\">Observations:\n",
        "\n"
      ]
    },
    {
      "cell_type": "code",
      "metadata": {
        "id": "sKnNS4M-1bR-"
      },
      "source": [
        ""
      ],
      "execution_count": null,
      "outputs": []
    },
    {
      "cell_type": "markdown",
      "metadata": {
        "id": "Hdkc1O3F1bR_"
      },
      "source": [
        "<span style=\"font-family: Arial; font-weight:bold;font-size:1.5em;color:#ae09ea;\"> 2.7. Skewness and Kurtosis\n",
        "\n",
        "Beyond measures of center and spread, descriptive statistics include measures that give you a sense of the shape of a distribution. Skewness measures the skew or asymmetry of a distribution while kurtosis measures the \"peakedness\" of a distribution. "
      ]
    },
    {
      "cell_type": "markdown",
      "metadata": {
        "id": "yZ0fWjxe1bSA"
      },
      "source": [
        "<span style=\"font-family: Arial; font-weight:bold;font-size:1.2em;color:#ae09ea;\"> 2.7a) Check the Skewness,Kurtosis for mtcars[\"mpg\"]?"
      ]
    },
    {
      "cell_type": "markdown",
      "metadata": {
        "id": "WvkD_BoC1bSB"
      },
      "source": [
        "#### Skewness"
      ]
    },
    {
      "cell_type": "code",
      "metadata": {
        "id": "R92lFmZ51bSB",
        "colab": {
          "base_uri": "https://localhost:8080/",
          "height": 204
        },
        "outputId": "d360d43e-601b-43cc-c93a-3cec57aed6ff"
      },
      "source": [
        "df2.head()"
      ],
      "execution_count": null,
      "outputs": [
        {
          "output_type": "execute_result",
          "data": {
            "text/html": [
              "<div>\n",
              "<style scoped>\n",
              "    .dataframe tbody tr th:only-of-type {\n",
              "        vertical-align: middle;\n",
              "    }\n",
              "\n",
              "    .dataframe tbody tr th {\n",
              "        vertical-align: top;\n",
              "    }\n",
              "\n",
              "    .dataframe thead th {\n",
              "        text-align: right;\n",
              "    }\n",
              "</style>\n",
              "<table border=\"1\" class=\"dataframe\">\n",
              "  <thead>\n",
              "    <tr style=\"text-align: right;\">\n",
              "      <th></th>\n",
              "      <th>model</th>\n",
              "      <th>mpg</th>\n",
              "      <th>cyl</th>\n",
              "      <th>disp</th>\n",
              "      <th>hp</th>\n",
              "      <th>drat</th>\n",
              "      <th>wt</th>\n",
              "      <th>qsec</th>\n",
              "      <th>vs</th>\n",
              "      <th>am</th>\n",
              "      <th>gear</th>\n",
              "      <th>carb</th>\n",
              "    </tr>\n",
              "  </thead>\n",
              "  <tbody>\n",
              "    <tr>\n",
              "      <th>0</th>\n",
              "      <td>Mazda RX4</td>\n",
              "      <td>21.0</td>\n",
              "      <td>6</td>\n",
              "      <td>160.0</td>\n",
              "      <td>110</td>\n",
              "      <td>3.90</td>\n",
              "      <td>2.620</td>\n",
              "      <td>16.46</td>\n",
              "      <td>0</td>\n",
              "      <td>1</td>\n",
              "      <td>4</td>\n",
              "      <td>4</td>\n",
              "    </tr>\n",
              "    <tr>\n",
              "      <th>1</th>\n",
              "      <td>Mazda RX4 Wag</td>\n",
              "      <td>21.0</td>\n",
              "      <td>6</td>\n",
              "      <td>160.0</td>\n",
              "      <td>110</td>\n",
              "      <td>3.90</td>\n",
              "      <td>2.875</td>\n",
              "      <td>17.02</td>\n",
              "      <td>0</td>\n",
              "      <td>1</td>\n",
              "      <td>4</td>\n",
              "      <td>4</td>\n",
              "    </tr>\n",
              "    <tr>\n",
              "      <th>2</th>\n",
              "      <td>Datsun 710</td>\n",
              "      <td>22.8</td>\n",
              "      <td>4</td>\n",
              "      <td>108.0</td>\n",
              "      <td>93</td>\n",
              "      <td>3.85</td>\n",
              "      <td>2.320</td>\n",
              "      <td>18.61</td>\n",
              "      <td>1</td>\n",
              "      <td>1</td>\n",
              "      <td>4</td>\n",
              "      <td>1</td>\n",
              "    </tr>\n",
              "    <tr>\n",
              "      <th>3</th>\n",
              "      <td>Hornet 4 Drive</td>\n",
              "      <td>21.4</td>\n",
              "      <td>6</td>\n",
              "      <td>258.0</td>\n",
              "      <td>110</td>\n",
              "      <td>3.08</td>\n",
              "      <td>3.215</td>\n",
              "      <td>19.44</td>\n",
              "      <td>1</td>\n",
              "      <td>0</td>\n",
              "      <td>3</td>\n",
              "      <td>1</td>\n",
              "    </tr>\n",
              "    <tr>\n",
              "      <th>4</th>\n",
              "      <td>Hornet Sportabout</td>\n",
              "      <td>18.7</td>\n",
              "      <td>8</td>\n",
              "      <td>360.0</td>\n",
              "      <td>175</td>\n",
              "      <td>3.15</td>\n",
              "      <td>3.440</td>\n",
              "      <td>17.02</td>\n",
              "      <td>0</td>\n",
              "      <td>0</td>\n",
              "      <td>3</td>\n",
              "      <td>2</td>\n",
              "    </tr>\n",
              "  </tbody>\n",
              "</table>\n",
              "</div>"
            ],
            "text/plain": [
              "               model   mpg  cyl   disp   hp  ...   qsec  vs  am  gear  carb\n",
              "0          Mazda RX4  21.0    6  160.0  110  ...  16.46   0   1     4     4\n",
              "1      Mazda RX4 Wag  21.0    6  160.0  110  ...  17.02   0   1     4     4\n",
              "2         Datsun 710  22.8    4  108.0   93  ...  18.61   1   1     4     1\n",
              "3     Hornet 4 Drive  21.4    6  258.0  110  ...  19.44   1   0     3     1\n",
              "4  Hornet Sportabout  18.7    8  360.0  175  ...  17.02   0   0     3     2\n",
              "\n",
              "[5 rows x 12 columns]"
            ]
          },
          "metadata": {
            "tags": []
          },
          "execution_count": 105
        }
      ]
    },
    {
      "cell_type": "code",
      "metadata": {
        "colab": {
          "base_uri": "https://localhost:8080/"
        },
        "id": "8TtdpwYDUtSi",
        "outputId": "568c14ae-3cfb-4e4f-d2f3-20374b6fb38f"
      },
      "source": [
        "df2[\"mpg\"].skew()             # skewness involves cubing deviations from the mean "
      ],
      "execution_count": null,
      "outputs": [
        {
          "output_type": "execute_result",
          "data": {
            "text/plain": [
              "0.6723771376290805"
            ]
          },
          "metadata": {
            "tags": []
          },
          "execution_count": 107
        }
      ]
    },
    {
      "cell_type": "markdown",
      "metadata": {
        "id": "-OFu1bC71bSD"
      },
      "source": [
        "#### Kurtosis"
      ]
    },
    {
      "cell_type": "code",
      "metadata": {
        "id": "qdeJAHXS1bSF",
        "colab": {
          "base_uri": "https://localhost:8080/"
        },
        "outputId": "21f41975-e285-48c7-cb6e-b014f6c695ff"
      },
      "source": [
        "df2[\"mpg\"].kurt()        #kurtosis involves raising deviations from the mean to the 4th power."
      ],
      "execution_count": null,
      "outputs": [
        {
          "output_type": "execute_result",
          "data": {
            "text/plain": [
              "-0.0220062914240855"
            ]
          },
          "metadata": {
            "tags": []
          },
          "execution_count": 108
        }
      ]
    },
    {
      "cell_type": "markdown",
      "metadata": {
        "id": "qS6z43nS1bSH"
      },
      "source": [
        "<span style=\"font-family: Arial; font-weight:bold;font-size:1.2em;color:#ae09ea;\">2.7b) To explore these two measures further, let's first create some dummy data (norm_data, skewed_data, uniform_data, peaked_data) and inspect it ?"
      ]
    },
    {
      "cell_type": "code",
      "metadata": {
        "id": "JoXcu9oA1bSc",
        "colab": {
          "base_uri": "https://localhost:8080/",
          "height": 282
        },
        "outputId": "93bcb23b-05c6-40dd-d539-993d855ecaa1"
      },
      "source": [
        "# Create a normally distributed data \n",
        "\n",
        "norm_data = np.random.normal(size=100000)\n",
        "\n",
        "# Create a skewed_data like np.concatenate((np.random.normal(size=35000)+2,np.random.exponential(size=65000)),axis=0)\n",
        "\n",
        "skewed_data = np.concatenate((np.random.normal(size=35000)+2, np.random.exponential(size=65000)), axis=0)\n",
        "# create uniform_data like uniform(0,2, size=100000)\n",
        "\n",
        "uniform_data = np.random.uniform(0,2, size=100000)\n",
        "\n",
        "# create peaked_data np.concatenate((np.random.exponential(size=50000),np.random.exponential(size=50000)*(-1)),axis=0)\n",
        "\n",
        "peaked_data = np.concatenate((np.random.exponential(size=50000),np.random.exponential(size=50000)*(-1)),axis=0)\n",
        "\n",
        "# create density plot for (norm_data,skewed_data,uniform_data,peaked_data)\n",
        "df3 = pd.DataFrame({\"norm\":norm_data,\"skewed\":skewed_data,\"uniform\":uniform_data,\"peaked\":peaked_data})\n",
        "df3.plot(kind=\"density\", grid= False)"
      ],
      "execution_count": 19,
      "outputs": [
        {
          "output_type": "execute_result",
          "data": {
            "text/plain": [
              "<matplotlib.axes._subplots.AxesSubplot at 0x7fb8fd0c6b38>"
            ]
          },
          "metadata": {
            "tags": []
          },
          "execution_count": 19
        },
        {
          "output_type": "display_data",
          "data": {
            "image/png": "[encoded data removed]",
            "text/plain": [
              "<Figure size 432x288 with 1 Axes>"
            ]
          },
          "metadata": {
            "tags": [],
            "needs_background": "light"
          }
        }
      ]
    },
    {
      "cell_type": "code",
      "metadata": {
        "id": "R1XhL2QS1bSe",
        "scrolled": true,
        "colab": {
          "base_uri": "https://localhost:8080/",
          "height": 282
        },
        "outputId": "85636dd3-5741-46c1-81e8-8c2c3b37f69c"
      },
      "source": [
        "# Plot all the four data distributions and observe how they look\n",
        "plt.plot(norm_data)\n",
        "plt.show"
      ],
      "execution_count": 23,
      "outputs": [
        {
          "output_type": "execute_result",
          "data": {
            "text/plain": [
              "<function matplotlib.pyplot.show>"
            ]
          },
          "metadata": {
            "tags": []
          },
          "execution_count": 23
        },
        {
          "output_type": "display_data",
          "data": {
            "image/png": "[encoded data removed]",
            "text/plain": [
              "<Figure size 432x288 with 1 Axes>"
            ]
          },
          "metadata": {
            "tags": [],
            "needs_background": "light"
          }
        }
      ]
    },
    {
      "cell_type": "code",
      "metadata": {
        "colab": {
          "base_uri": "https://localhost:8080/",
          "height": 282
        },
        "id": "7zB2BF14Y2qd",
        "outputId": "006e3843-f61c-4a8f-a331-3f033103ce86"
      },
      "source": [
        "plt.plot(skewed_data)"
      ],
      "execution_count": 20,
      "outputs": [
        {
          "output_type": "execute_result",
          "data": {
            "text/plain": [
              "[<matplotlib.lines.Line2D at 0x7fb8fa5f74e0>]"
            ]
          },
          "metadata": {
            "tags": []
          },
          "execution_count": 20
        },
        {
          "output_type": "display_data",
          "data": {
            "image/png": "[encoded data removed]",
            "text/plain": [
              "<Figure size 432x288 with 1 Axes>"
            ]
          },
          "metadata": {
            "tags": [],
            "needs_background": "light"
          }
        }
      ]
    },
    {
      "cell_type": "code",
      "metadata": {
        "colab": {
          "base_uri": "https://localhost:8080/",
          "height": 282
        },
        "id": "VFXRtMvjY5yp",
        "outputId": "90580c6e-858d-48ad-85f4-5b0ea4164af3"
      },
      "source": [
        "plt.plot(uniform_data)\r\n"
      ],
      "execution_count": 21,
      "outputs": [
        {
          "output_type": "execute_result",
          "data": {
            "text/plain": [
              "[<matplotlib.lines.Line2D at 0x7fb8fa630b00>]"
            ]
          },
          "metadata": {
            "tags": []
          },
          "execution_count": 21
        },
        {
          "output_type": "display_data",
          "data": {
            "image/png": "[encoded data removed]",
            "text/plain": [
              "<Figure size 432x288 with 1 Axes>"
            ]
          },
          "metadata": {
            "tags": [],
            "needs_background": "light"
          }
        }
      ]
    },
    {
      "cell_type": "code",
      "metadata": {
        "colab": {
          "base_uri": "https://localhost:8080/",
          "height": 282
        },
        "id": "hr78DCT3Y4u-",
        "outputId": "6aa3994e-d3ac-4502-d3f7-3ad4dd1fcdab"
      },
      "source": [
        "plt.plot(peaked_data)"
      ],
      "execution_count": 22,
      "outputs": [
        {
          "output_type": "execute_result",
          "data": {
            "text/plain": [
              "[<matplotlib.lines.Line2D at 0x7fb8fa53eb70>]"
            ]
          },
          "metadata": {
            "tags": []
          },
          "execution_count": 22
        },
        {
          "output_type": "display_data",
          "data": {
            "image/png": "[encoded data removed]",
            "text/plain": [
              "<Figure size 432x288 with 1 Axes>"
            ]
          },
          "metadata": {
            "tags": [],
            "needs_background": "light"
          }
        }
      ]
    },
    {
      "cell_type": "markdown",
      "metadata": {
        "id": "0XAJ1C0t1bSk"
      },
      "source": [
        "<span style=\"font-family: Arial; font-weight:bold;font-size:1.1em;color:#ae09ea;\"> Observation:\n",
        "\n"
      ]
    },
    {
      "cell_type": "code",
      "metadata": {
        "id": "_Vgocyng1bSk"
      },
      "source": [
        ""
      ],
      "execution_count": null,
      "outputs": []
    },
    {
      "cell_type": "markdown",
      "metadata": {
        "id": "HxjahEi_1bSm"
      },
      "source": [
        "<span style=\"font-family: Arial; font-weight:bold;font-size:1.2em;color:#ae09ea;\">2.7c) Lets check Skewness and Kurtosis for dummy data. Write your observations ?"
      ]
    },
    {
      "cell_type": "code",
      "metadata": {
        "id": "jbXeCtk31bSn",
        "colab": {
          "base_uri": "https://localhost:8080/"
        },
        "outputId": "1208302f-3838-4d6d-a8fa-a27f4aa3a558"
      },
      "source": [
        "print(df3.skew())\r\n",
        "print(df3.kurt())"
      ],
      "execution_count": null,
      "outputs": [
        {
          "output_type": "stream",
          "text": [
            "norm      -0.002114\n",
            "skewed     0.989957\n",
            "uniform   -0.001151\n",
            "peaked    -0.013848\n",
            "dtype: float64\n",
            "norm       0.004403\n",
            "skewed     1.171552\n",
            "uniform   -1.196292\n",
            "peaked     3.180480\n",
            "dtype: float64\n"
          ],
          "name": "stdout"
        }
      ]
    },
    {
      "cell_type": "markdown",
      "metadata": {
        "id": "VreIpFX51bSp"
      },
      "source": [
        "<span style=\"font-family: Arial; font-weight:bold;font-size:1.1em;color:#ae09ea;\"> Observation:\n"
      ]
    },
    {
      "cell_type": "code",
      "metadata": {
        "id": "xYx-xpho1bSp"
      },
      "source": [
        ""
      ],
      "execution_count": null,
      "outputs": []
    },
    {
      "cell_type": "markdown",
      "metadata": {
        "id": "VORUBeOP1bSt"
      },
      "source": [
        "<span style=\"font-family: Arial; font-weight:bold;font-size:2.4em;color:#dbd406;\"> THE END"
      ]
    }
  ]
}